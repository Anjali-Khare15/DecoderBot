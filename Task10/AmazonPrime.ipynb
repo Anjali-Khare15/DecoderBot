{
 "cells": [
  {
   "cell_type": "code",
   "execution_count": 1,
   "id": "5324f095",
   "metadata": {},
   "outputs": [],
   "source": [
    "import pandas as pd"
   ]
  },
  {
   "cell_type": "code",
   "execution_count": 2,
   "id": "59b9039f",
   "metadata": {},
   "outputs": [],
   "source": [
    "import seaborn as sns"
   ]
  },
  {
   "cell_type": "code",
   "execution_count": 3,
   "id": "5d08bdac",
   "metadata": {},
   "outputs": [],
   "source": [
    "import numpy as np"
   ]
  },
  {
   "cell_type": "code",
   "execution_count": 4,
   "id": "a67a7ab1",
   "metadata": {},
   "outputs": [],
   "source": [
    "Amazon_prime = pd.read_csv(\"C:/Users/angel/Downloads/Task 10- Amazon Prime Movies and TV Shows.csv\")"
   ]
  },
  {
   "cell_type": "code",
   "execution_count": 5,
   "id": "7f02542b",
   "metadata": {},
   "outputs": [
    {
     "data": {
      "text/html": [
       "<div>\n",
       "<style scoped>\n",
       "    .dataframe tbody tr th:only-of-type {\n",
       "        vertical-align: middle;\n",
       "    }\n",
       "\n",
       "    .dataframe tbody tr th {\n",
       "        vertical-align: top;\n",
       "    }\n",
       "\n",
       "    .dataframe thead th {\n",
       "        text-align: right;\n",
       "    }\n",
       "</style>\n",
       "<table border=\"1\" class=\"dataframe\">\n",
       "  <thead>\n",
       "    <tr style=\"text-align: right;\">\n",
       "      <th></th>\n",
       "      <th>show_id</th>\n",
       "      <th>type</th>\n",
       "      <th>title</th>\n",
       "      <th>director</th>\n",
       "      <th>cast</th>\n",
       "      <th>country</th>\n",
       "      <th>date_added</th>\n",
       "      <th>release_year</th>\n",
       "      <th>rating</th>\n",
       "      <th>duration</th>\n",
       "      <th>listed_in</th>\n",
       "      <th>description</th>\n",
       "    </tr>\n",
       "  </thead>\n",
       "  <tbody>\n",
       "    <tr>\n",
       "      <th>0</th>\n",
       "      <td>s1</td>\n",
       "      <td>Movie</td>\n",
       "      <td>The Grand Seduction</td>\n",
       "      <td>Don McKellar</td>\n",
       "      <td>Brendan Gleeson, Taylor Kitsch, Gordon Pinsent</td>\n",
       "      <td>Canada</td>\n",
       "      <td>30-Mar-21</td>\n",
       "      <td>2014</td>\n",
       "      <td>NaN</td>\n",
       "      <td>113 min</td>\n",
       "      <td>Comedy, Drama</td>\n",
       "      <td>A small fishing village must procure a local d...</td>\n",
       "    </tr>\n",
       "    <tr>\n",
       "      <th>1</th>\n",
       "      <td>s2</td>\n",
       "      <td>Movie</td>\n",
       "      <td>Take Care Good Night</td>\n",
       "      <td>Girish Joshi</td>\n",
       "      <td>Mahesh Manjrekar, Abhay Mahajan, Sachin Khedekar</td>\n",
       "      <td>India</td>\n",
       "      <td>30-Mar-21</td>\n",
       "      <td>2018</td>\n",
       "      <td>13+</td>\n",
       "      <td>110 min</td>\n",
       "      <td>Drama, International</td>\n",
       "      <td>A Metro Family decides to fight a Cyber Crimin...</td>\n",
       "    </tr>\n",
       "    <tr>\n",
       "      <th>2</th>\n",
       "      <td>s3</td>\n",
       "      <td>Movie</td>\n",
       "      <td>Secrets of Deception</td>\n",
       "      <td>Josh Webber</td>\n",
       "      <td>Tom Sizemore, Lorenzo Lamas, Robert LaSardo, R...</td>\n",
       "      <td>United States</td>\n",
       "      <td>30-Mar-21</td>\n",
       "      <td>2017</td>\n",
       "      <td>NaN</td>\n",
       "      <td>74 min</td>\n",
       "      <td>Action, Drama, Suspense</td>\n",
       "      <td>After a man discovers his wife is cheating on ...</td>\n",
       "    </tr>\n",
       "    <tr>\n",
       "      <th>3</th>\n",
       "      <td>s4</td>\n",
       "      <td>Movie</td>\n",
       "      <td>Pink: Staying True</td>\n",
       "      <td>Sonia Anderson</td>\n",
       "      <td>Interviews with: Pink, Adele, Beyoncé, Britney...</td>\n",
       "      <td>United States</td>\n",
       "      <td>30-Mar-21</td>\n",
       "      <td>2014</td>\n",
       "      <td>NaN</td>\n",
       "      <td>69 min</td>\n",
       "      <td>Documentary</td>\n",
       "      <td>Pink breaks the mold once again, bringing her ...</td>\n",
       "    </tr>\n",
       "    <tr>\n",
       "      <th>4</th>\n",
       "      <td>s5</td>\n",
       "      <td>Movie</td>\n",
       "      <td>Monster Maker</td>\n",
       "      <td>Giles Foster</td>\n",
       "      <td>Harry Dean Stanton, Kieran O'Brien, George Cos...</td>\n",
       "      <td>United Kingdom</td>\n",
       "      <td>30-Mar-21</td>\n",
       "      <td>1989</td>\n",
       "      <td>NaN</td>\n",
       "      <td>45 min</td>\n",
       "      <td>Drama, Fantasy</td>\n",
       "      <td>Teenage Matt Banting wants to work with a famo...</td>\n",
       "    </tr>\n",
       "    <tr>\n",
       "      <th>...</th>\n",
       "      <td>...</td>\n",
       "      <td>...</td>\n",
       "      <td>...</td>\n",
       "      <td>...</td>\n",
       "      <td>...</td>\n",
       "      <td>...</td>\n",
       "      <td>...</td>\n",
       "      <td>...</td>\n",
       "      <td>...</td>\n",
       "      <td>...</td>\n",
       "      <td>...</td>\n",
       "      <td>...</td>\n",
       "    </tr>\n",
       "    <tr>\n",
       "      <th>9663</th>\n",
       "      <td>s9664</td>\n",
       "      <td>Movie</td>\n",
       "      <td>Pride Of The Bowery</td>\n",
       "      <td>Joseph H. Lewis</td>\n",
       "      <td>Leo Gorcey, Bobby Jordan</td>\n",
       "      <td>NaN</td>\n",
       "      <td>NaN</td>\n",
       "      <td>1940</td>\n",
       "      <td>7+</td>\n",
       "      <td>60 min</td>\n",
       "      <td>Comedy</td>\n",
       "      <td>New York City street principles get an East Si...</td>\n",
       "    </tr>\n",
       "    <tr>\n",
       "      <th>9664</th>\n",
       "      <td>s9665</td>\n",
       "      <td>TV Show</td>\n",
       "      <td>Planet Patrol</td>\n",
       "      <td>NaN</td>\n",
       "      <td>DICK VOSBURGH, RONNIE STEVENS, LIBBY MORRIS, M...</td>\n",
       "      <td>NaN</td>\n",
       "      <td>NaN</td>\n",
       "      <td>2018</td>\n",
       "      <td>13+</td>\n",
       "      <td>4 Seasons</td>\n",
       "      <td>TV Shows</td>\n",
       "      <td>This is Earth, 2100AD - and these are the adve...</td>\n",
       "    </tr>\n",
       "    <tr>\n",
       "      <th>9665</th>\n",
       "      <td>s9666</td>\n",
       "      <td>Movie</td>\n",
       "      <td>Outpost</td>\n",
       "      <td>Steve Barker</td>\n",
       "      <td>Ray Stevenson, Julian Wadham, Richard Brake, M...</td>\n",
       "      <td>NaN</td>\n",
       "      <td>NaN</td>\n",
       "      <td>2008</td>\n",
       "      <td>R</td>\n",
       "      <td>90 min</td>\n",
       "      <td>Action</td>\n",
       "      <td>In war-torn Eastern Europe, a world-weary grou...</td>\n",
       "    </tr>\n",
       "    <tr>\n",
       "      <th>9666</th>\n",
       "      <td>s9667</td>\n",
       "      <td>TV Show</td>\n",
       "      <td>Maradona: Blessed Dream</td>\n",
       "      <td>NaN</td>\n",
       "      <td>Esteban Recagno, Ezequiel Stremiz, Luciano Vit...</td>\n",
       "      <td>NaN</td>\n",
       "      <td>NaN</td>\n",
       "      <td>2021</td>\n",
       "      <td>TV-MA</td>\n",
       "      <td>1 Season</td>\n",
       "      <td>Drama, Sports</td>\n",
       "      <td>The series tells the story of Diego Maradona, ...</td>\n",
       "    </tr>\n",
       "    <tr>\n",
       "      <th>9667</th>\n",
       "      <td>s9668</td>\n",
       "      <td>Movie</td>\n",
       "      <td>Harry Brown</td>\n",
       "      <td>Daniel Barber</td>\n",
       "      <td>Michael Caine, Emily Mortimer, Joseph Gilgun, ...</td>\n",
       "      <td>NaN</td>\n",
       "      <td>NaN</td>\n",
       "      <td>2010</td>\n",
       "      <td>R</td>\n",
       "      <td>103 min</td>\n",
       "      <td>Action, Drama, Suspense</td>\n",
       "      <td>Harry Brown, starring two-time Academy Award w...</td>\n",
       "    </tr>\n",
       "  </tbody>\n",
       "</table>\n",
       "<p>9668 rows × 12 columns</p>\n",
       "</div>"
      ],
      "text/plain": [
       "     show_id     type                    title         director  \\\n",
       "0         s1    Movie      The Grand Seduction     Don McKellar   \n",
       "1         s2    Movie     Take Care Good Night     Girish Joshi   \n",
       "2         s3    Movie     Secrets of Deception      Josh Webber   \n",
       "3         s4    Movie       Pink: Staying True   Sonia Anderson   \n",
       "4         s5    Movie            Monster Maker     Giles Foster   \n",
       "...      ...      ...                      ...              ...   \n",
       "9663   s9664    Movie      Pride Of The Bowery  Joseph H. Lewis   \n",
       "9664   s9665  TV Show            Planet Patrol              NaN   \n",
       "9665   s9666    Movie                  Outpost     Steve Barker   \n",
       "9666   s9667  TV Show  Maradona: Blessed Dream              NaN   \n",
       "9667   s9668    Movie              Harry Brown    Daniel Barber   \n",
       "\n",
       "                                                   cast         country  \\\n",
       "0        Brendan Gleeson, Taylor Kitsch, Gordon Pinsent          Canada   \n",
       "1      Mahesh Manjrekar, Abhay Mahajan, Sachin Khedekar           India   \n",
       "2     Tom Sizemore, Lorenzo Lamas, Robert LaSardo, R...   United States   \n",
       "3     Interviews with: Pink, Adele, Beyoncé, Britney...   United States   \n",
       "4     Harry Dean Stanton, Kieran O'Brien, George Cos...  United Kingdom   \n",
       "...                                                 ...             ...   \n",
       "9663                           Leo Gorcey, Bobby Jordan             NaN   \n",
       "9664  DICK VOSBURGH, RONNIE STEVENS, LIBBY MORRIS, M...             NaN   \n",
       "9665  Ray Stevenson, Julian Wadham, Richard Brake, M...             NaN   \n",
       "9666  Esteban Recagno, Ezequiel Stremiz, Luciano Vit...             NaN   \n",
       "9667  Michael Caine, Emily Mortimer, Joseph Gilgun, ...             NaN   \n",
       "\n",
       "     date_added  release_year rating   duration                listed_in  \\\n",
       "0     30-Mar-21          2014    NaN    113 min            Comedy, Drama   \n",
       "1     30-Mar-21          2018    13+    110 min     Drama, International   \n",
       "2     30-Mar-21          2017    NaN     74 min  Action, Drama, Suspense   \n",
       "3     30-Mar-21          2014    NaN     69 min              Documentary   \n",
       "4     30-Mar-21          1989    NaN     45 min           Drama, Fantasy   \n",
       "...         ...           ...    ...        ...                      ...   \n",
       "9663        NaN          1940     7+     60 min                   Comedy   \n",
       "9664        NaN          2018    13+  4 Seasons                 TV Shows   \n",
       "9665        NaN          2008      R     90 min                   Action   \n",
       "9666        NaN          2021  TV-MA   1 Season            Drama, Sports   \n",
       "9667        NaN          2010      R    103 min  Action, Drama, Suspense   \n",
       "\n",
       "                                            description  \n",
       "0     A small fishing village must procure a local d...  \n",
       "1     A Metro Family decides to fight a Cyber Crimin...  \n",
       "2     After a man discovers his wife is cheating on ...  \n",
       "3     Pink breaks the mold once again, bringing her ...  \n",
       "4     Teenage Matt Banting wants to work with a famo...  \n",
       "...                                                 ...  \n",
       "9663  New York City street principles get an East Si...  \n",
       "9664  This is Earth, 2100AD - and these are the adve...  \n",
       "9665  In war-torn Eastern Europe, a world-weary grou...  \n",
       "9666  The series tells the story of Diego Maradona, ...  \n",
       "9667  Harry Brown, starring two-time Academy Award w...  \n",
       "\n",
       "[9668 rows x 12 columns]"
      ]
     },
     "execution_count": 5,
     "metadata": {},
     "output_type": "execute_result"
    }
   ],
   "source": [
    "Amazon_prime"
   ]
  },
  {
   "cell_type": "code",
   "execution_count": 6,
   "id": "60ec2945",
   "metadata": {},
   "outputs": [
    {
     "data": {
      "text/html": [
       "<div>\n",
       "<style scoped>\n",
       "    .dataframe tbody tr th:only-of-type {\n",
       "        vertical-align: middle;\n",
       "    }\n",
       "\n",
       "    .dataframe tbody tr th {\n",
       "        vertical-align: top;\n",
       "    }\n",
       "\n",
       "    .dataframe thead th {\n",
       "        text-align: right;\n",
       "    }\n",
       "</style>\n",
       "<table border=\"1\" class=\"dataframe\">\n",
       "  <thead>\n",
       "    <tr style=\"text-align: right;\">\n",
       "      <th></th>\n",
       "      <th>show_id</th>\n",
       "      <th>type</th>\n",
       "      <th>title</th>\n",
       "      <th>director</th>\n",
       "      <th>cast</th>\n",
       "      <th>country</th>\n",
       "      <th>date_added</th>\n",
       "      <th>release_year</th>\n",
       "      <th>rating</th>\n",
       "      <th>duration</th>\n",
       "      <th>listed_in</th>\n",
       "      <th>description</th>\n",
       "    </tr>\n",
       "  </thead>\n",
       "  <tbody>\n",
       "    <tr>\n",
       "      <th>0</th>\n",
       "      <td>s1</td>\n",
       "      <td>Movie</td>\n",
       "      <td>The Grand Seduction</td>\n",
       "      <td>Don McKellar</td>\n",
       "      <td>Brendan Gleeson, Taylor Kitsch, Gordon Pinsent</td>\n",
       "      <td>Canada</td>\n",
       "      <td>30-Mar-21</td>\n",
       "      <td>2014</td>\n",
       "      <td>NaN</td>\n",
       "      <td>113 min</td>\n",
       "      <td>Comedy, Drama</td>\n",
       "      <td>A small fishing village must procure a local d...</td>\n",
       "    </tr>\n",
       "    <tr>\n",
       "      <th>1</th>\n",
       "      <td>s2</td>\n",
       "      <td>Movie</td>\n",
       "      <td>Take Care Good Night</td>\n",
       "      <td>Girish Joshi</td>\n",
       "      <td>Mahesh Manjrekar, Abhay Mahajan, Sachin Khedekar</td>\n",
       "      <td>India</td>\n",
       "      <td>30-Mar-21</td>\n",
       "      <td>2018</td>\n",
       "      <td>13+</td>\n",
       "      <td>110 min</td>\n",
       "      <td>Drama, International</td>\n",
       "      <td>A Metro Family decides to fight a Cyber Crimin...</td>\n",
       "    </tr>\n",
       "    <tr>\n",
       "      <th>2</th>\n",
       "      <td>s3</td>\n",
       "      <td>Movie</td>\n",
       "      <td>Secrets of Deception</td>\n",
       "      <td>Josh Webber</td>\n",
       "      <td>Tom Sizemore, Lorenzo Lamas, Robert LaSardo, R...</td>\n",
       "      <td>United States</td>\n",
       "      <td>30-Mar-21</td>\n",
       "      <td>2017</td>\n",
       "      <td>NaN</td>\n",
       "      <td>74 min</td>\n",
       "      <td>Action, Drama, Suspense</td>\n",
       "      <td>After a man discovers his wife is cheating on ...</td>\n",
       "    </tr>\n",
       "    <tr>\n",
       "      <th>3</th>\n",
       "      <td>s4</td>\n",
       "      <td>Movie</td>\n",
       "      <td>Pink: Staying True</td>\n",
       "      <td>Sonia Anderson</td>\n",
       "      <td>Interviews with: Pink, Adele, Beyoncé, Britney...</td>\n",
       "      <td>United States</td>\n",
       "      <td>30-Mar-21</td>\n",
       "      <td>2014</td>\n",
       "      <td>NaN</td>\n",
       "      <td>69 min</td>\n",
       "      <td>Documentary</td>\n",
       "      <td>Pink breaks the mold once again, bringing her ...</td>\n",
       "    </tr>\n",
       "    <tr>\n",
       "      <th>4</th>\n",
       "      <td>s5</td>\n",
       "      <td>Movie</td>\n",
       "      <td>Monster Maker</td>\n",
       "      <td>Giles Foster</td>\n",
       "      <td>Harry Dean Stanton, Kieran O'Brien, George Cos...</td>\n",
       "      <td>United Kingdom</td>\n",
       "      <td>30-Mar-21</td>\n",
       "      <td>1989</td>\n",
       "      <td>NaN</td>\n",
       "      <td>45 min</td>\n",
       "      <td>Drama, Fantasy</td>\n",
       "      <td>Teenage Matt Banting wants to work with a famo...</td>\n",
       "    </tr>\n",
       "  </tbody>\n",
       "</table>\n",
       "</div>"
      ],
      "text/plain": [
       "  show_id   type                 title        director  \\\n",
       "0      s1  Movie   The Grand Seduction    Don McKellar   \n",
       "1      s2  Movie  Take Care Good Night    Girish Joshi   \n",
       "2      s3  Movie  Secrets of Deception     Josh Webber   \n",
       "3      s4  Movie    Pink: Staying True  Sonia Anderson   \n",
       "4      s5  Movie         Monster Maker    Giles Foster   \n",
       "\n",
       "                                                cast         country  \\\n",
       "0     Brendan Gleeson, Taylor Kitsch, Gordon Pinsent          Canada   \n",
       "1   Mahesh Manjrekar, Abhay Mahajan, Sachin Khedekar           India   \n",
       "2  Tom Sizemore, Lorenzo Lamas, Robert LaSardo, R...   United States   \n",
       "3  Interviews with: Pink, Adele, Beyoncé, Britney...   United States   \n",
       "4  Harry Dean Stanton, Kieran O'Brien, George Cos...  United Kingdom   \n",
       "\n",
       "  date_added  release_year rating duration                listed_in  \\\n",
       "0  30-Mar-21          2014    NaN  113 min            Comedy, Drama   \n",
       "1  30-Mar-21          2018    13+  110 min     Drama, International   \n",
       "2  30-Mar-21          2017    NaN   74 min  Action, Drama, Suspense   \n",
       "3  30-Mar-21          2014    NaN   69 min              Documentary   \n",
       "4  30-Mar-21          1989    NaN   45 min           Drama, Fantasy   \n",
       "\n",
       "                                         description  \n",
       "0  A small fishing village must procure a local d...  \n",
       "1  A Metro Family decides to fight a Cyber Crimin...  \n",
       "2  After a man discovers his wife is cheating on ...  \n",
       "3  Pink breaks the mold once again, bringing her ...  \n",
       "4  Teenage Matt Banting wants to work with a famo...  "
      ]
     },
     "execution_count": 6,
     "metadata": {},
     "output_type": "execute_result"
    }
   ],
   "source": [
    "Amazon_prime.head()"
   ]
  },
  {
   "cell_type": "code",
   "execution_count": 7,
   "id": "014ff534",
   "metadata": {},
   "outputs": [
    {
     "data": {
      "text/plain": [
       "(9668, 12)"
      ]
     },
     "execution_count": 7,
     "metadata": {},
     "output_type": "execute_result"
    }
   ],
   "source": [
    "Amazon_prime.shape"
   ]
  },
  {
   "cell_type": "code",
   "execution_count": 8,
   "id": "a30b9a7e",
   "metadata": {},
   "outputs": [],
   "source": [
    "cols = Amazon_prime.columns.tolist()"
   ]
  },
  {
   "cell_type": "code",
   "execution_count": 9,
   "id": "25dce172",
   "metadata": {},
   "outputs": [
    {
     "data": {
      "text/plain": [
       "['show_id',\n",
       " 'type',\n",
       " 'title',\n",
       " 'director',\n",
       " 'cast',\n",
       " 'country',\n",
       " 'date_added',\n",
       " 'release_year',\n",
       " 'rating',\n",
       " 'duration',\n",
       " 'listed_in',\n",
       " 'description']"
      ]
     },
     "execution_count": 9,
     "metadata": {},
     "output_type": "execute_result"
    }
   ],
   "source": [
    "cols"
   ]
  },
  {
   "cell_type": "code",
   "execution_count": 10,
   "id": "3ae4f887",
   "metadata": {},
   "outputs": [],
   "source": [
    "Amazon_prime.drop(['show_id'],axis=1,inplace=True)"
   ]
  },
  {
   "cell_type": "code",
   "execution_count": 11,
   "id": "49f74796",
   "metadata": {},
   "outputs": [],
   "source": [
    "cols = Amazon_prime.columns.tolist()"
   ]
  },
  {
   "cell_type": "code",
   "execution_count": 12,
   "id": "c8afc507",
   "metadata": {},
   "outputs": [
    {
     "data": {
      "text/plain": [
       "['type',\n",
       " 'title',\n",
       " 'director',\n",
       " 'cast',\n",
       " 'country',\n",
       " 'date_added',\n",
       " 'release_year',\n",
       " 'rating',\n",
       " 'duration',\n",
       " 'listed_in',\n",
       " 'description']"
      ]
     },
     "execution_count": 12,
     "metadata": {},
     "output_type": "execute_result"
    }
   ],
   "source": [
    "cols"
   ]
  },
  {
   "cell_type": "markdown",
   "id": "ee884470",
   "metadata": {},
   "source": [
    "Checking Missing Values"
   ]
  },
  {
   "cell_type": "code",
   "execution_count": 13,
   "id": "5c335454",
   "metadata": {},
   "outputs": [
    {
     "data": {
      "text/plain": [
       "type               0\n",
       "title              0\n",
       "director        2083\n",
       "cast            1233\n",
       "country         8996\n",
       "date_added      9513\n",
       "release_year       0\n",
       "rating           337\n",
       "duration           0\n",
       "listed_in          0\n",
       "description        0\n",
       "dtype: int64"
      ]
     },
     "execution_count": 13,
     "metadata": {},
     "output_type": "execute_result"
    }
   ],
   "source": [
    "Amazon_prime.isna().sum()"
   ]
  },
  {
   "cell_type": "code",
   "execution_count": 14,
   "id": "c95d1e16",
   "metadata": {},
   "outputs": [
    {
     "data": {
      "text/plain": [
       "type            object\n",
       "title           object\n",
       "director        object\n",
       "cast            object\n",
       "country         object\n",
       "date_added      object\n",
       "release_year     int64\n",
       "rating          object\n",
       "duration        object\n",
       "listed_in       object\n",
       "description     object\n",
       "dtype: object"
      ]
     },
     "execution_count": 14,
     "metadata": {},
     "output_type": "execute_result"
    }
   ],
   "source": [
    "Amazon_prime.dtypes"
   ]
  },
  {
   "cell_type": "code",
   "execution_count": 15,
   "id": "d7cbb277",
   "metadata": {},
   "outputs": [
    {
     "data": {
      "text/plain": [
       "0         NaN\n",
       "1         13+\n",
       "2         NaN\n",
       "3         NaN\n",
       "4         NaN\n",
       "        ...  \n",
       "9663       7+\n",
       "9664      13+\n",
       "9665        R\n",
       "9666    TV-MA\n",
       "9667        R\n",
       "Name: rating, Length: 9668, dtype: object"
      ]
     },
     "execution_count": 15,
     "metadata": {},
     "output_type": "execute_result"
    }
   ],
   "source": [
    "Amazon_prime['rating']"
   ]
  },
  {
   "cell_type": "code",
   "execution_count": 16,
   "id": "791d5f75",
   "metadata": {},
   "outputs": [],
   "source": [
    "from datetime import datetime"
   ]
  },
  {
   "cell_type": "code",
   "execution_count": 17,
   "id": "eee3d928",
   "metadata": {},
   "outputs": [
    {
     "data": {
      "text/plain": [
       "0       30-Mar-21\n",
       "1       30-Mar-21\n",
       "2       30-Mar-21\n",
       "3       30-Mar-21\n",
       "4       30-Mar-21\n",
       "          ...    \n",
       "9663          NaN\n",
       "9664          NaN\n",
       "9665          NaN\n",
       "9666          NaN\n",
       "9667          NaN\n",
       "Name: date_added, Length: 9668, dtype: object"
      ]
     },
     "execution_count": 17,
     "metadata": {},
     "output_type": "execute_result"
    }
   ],
   "source": [
    "Amazon_prime['date_added']"
   ]
  },
  {
   "cell_type": "code",
   "execution_count": 18,
   "id": "77d276a9",
   "metadata": {},
   "outputs": [],
   "source": [
    "date_time =\"30-Mar-21\""
   ]
  },
  {
   "cell_type": "code",
   "execution_count": 19,
   "id": "f9e2e510",
   "metadata": {},
   "outputs": [
    {
     "data": {
      "text/plain": [
       "director\n",
       "Mark Knight              113\n",
       "Cannis Holder             61\n",
       "Moonbug Entertainment     37\n",
       "Jay Chapman               34\n",
       "Arthur van Merwijk        30\n",
       "                        ... \n",
       "Karyn Kusama               1\n",
       "K. Subash                  1\n",
       "Robert Cuffley             1\n",
       "J. Sabarish                1\n",
       "Steve Barker               1\n",
       "Name: count, Length: 5773, dtype: int64"
      ]
     },
     "execution_count": 19,
     "metadata": {},
     "output_type": "execute_result"
    }
   ],
   "source": [
    "Amazon_prime['director'].value_counts()"
   ]
  },
  {
   "cell_type": "code",
   "execution_count": 20,
   "id": "3f31676f",
   "metadata": {},
   "outputs": [
    {
     "data": {
      "text/plain": [
       "0          Don McKellar\n",
       "1          Girish Joshi\n",
       "2           Josh Webber\n",
       "3        Sonia Anderson\n",
       "4          Giles Foster\n",
       "             ...       \n",
       "9663    Joseph H. Lewis\n",
       "9664        Mark Knight\n",
       "9665       Steve Barker\n",
       "9666        Mark Knight\n",
       "9667      Daniel Barber\n",
       "Name: director, Length: 9668, dtype: object"
      ]
     },
     "execution_count": 20,
     "metadata": {},
     "output_type": "execute_result"
    }
   ],
   "source": [
    "Amazon_prime['director'].fillna(value='Mark Knight')"
   ]
  },
  {
   "cell_type": "code",
   "execution_count": 21,
   "id": "877f8d88",
   "metadata": {},
   "outputs": [
    {
     "data": {
      "text/plain": [
       "type               0\n",
       "title              0\n",
       "director        2083\n",
       "cast            1233\n",
       "country         8996\n",
       "date_added      9513\n",
       "release_year       0\n",
       "rating           337\n",
       "duration           0\n",
       "listed_in          0\n",
       "description        0\n",
       "dtype: int64"
      ]
     },
     "execution_count": 21,
     "metadata": {},
     "output_type": "execute_result"
    }
   ],
   "source": [
    "Amazon_prime.isnull().sum()"
   ]
  },
  {
   "cell_type": "markdown",
   "id": "6f1a767f",
   "metadata": {},
   "source": [
    "Dealing with Null values in the Cast column:\n",
    "The following snippet is executed to check the count of occurrences of various casts in the dataset:"
   ]
  },
  {
   "cell_type": "code",
   "execution_count": 22,
   "id": "7c8349b6",
   "metadata": {},
   "outputs": [
    {
     "data": {
      "text/plain": [
       "cast\n",
       "Maggie Binkley                                                                                                                                                                    56\n",
       "1                                                                                                                                                                                 34\n",
       "Anne-Marie Newland                                                                                                                                                                24\n",
       "Cassandra Peterson                                                                                                                                                                21\n",
       "Grace Tamayo, Erin Webbs                                                                                                                                                          17\n",
       "                                                                                                                                                                                  ..\n",
       "Robert Redford, Jane Fonda, Charles Boyer, Mildred Natwick, Herb Edelman                                                                                                           1\n",
       "Paul Reubens, Stephanie Hodge, Valeria Golino, Kris Kristofferson, Penelope Ann Miller, Susan Tyrrell, Albert Henderson, Terrence Mann, Jack Murdock, David Byrd, Mary Jackson     1\n",
       "Lorena Segura York, Garrett Westton, Bill Engvall, Bethany Peterson, Dariush A. Moslemi                                                                                            1\n",
       "Toni Collette, Parker Posey, Lisa Kudrow                                                                                                                                           1\n",
       "Michael Caine, Emily Mortimer, Joseph Gilgun, Sean Harris                                                                                                                          1\n",
       "Name: count, Length: 7927, dtype: int64"
      ]
     },
     "execution_count": 22,
     "metadata": {},
     "output_type": "execute_result"
    }
   ],
   "source": [
    "Amazon_prime['cast'].value_counts()"
   ]
  },
  {
   "cell_type": "markdown",
   "id": "74fe2686",
   "metadata": {},
   "source": [
    "The count of \"Maggie Binkley\" is the highest in the cast column. Hence we replace all the null values in the cast column with \"Maggie Binkley\" in the following manner:"
   ]
  },
  {
   "cell_type": "code",
   "execution_count": 23,
   "id": "29126460",
   "metadata": {},
   "outputs": [
    {
     "data": {
      "text/plain": [
       "0          Brendan Gleeson, Taylor Kitsch, Gordon Pinsent\n",
       "1        Mahesh Manjrekar, Abhay Mahajan, Sachin Khedekar\n",
       "2       Tom Sizemore, Lorenzo Lamas, Robert LaSardo, R...\n",
       "3       Interviews with: Pink, Adele, Beyoncé, Britney...\n",
       "4       Harry Dean Stanton, Kieran O'Brien, George Cos...\n",
       "                              ...                        \n",
       "9663                             Leo Gorcey, Bobby Jordan\n",
       "9664    DICK VOSBURGH, RONNIE STEVENS, LIBBY MORRIS, M...\n",
       "9665    Ray Stevenson, Julian Wadham, Richard Brake, M...\n",
       "9666    Esteban Recagno, Ezequiel Stremiz, Luciano Vit...\n",
       "9667    Michael Caine, Emily Mortimer, Joseph Gilgun, ...\n",
       "Name: cast, Length: 9668, dtype: object"
      ]
     },
     "execution_count": 23,
     "metadata": {},
     "output_type": "execute_result"
    }
   ],
   "source": [
    "Amazon_prime['cast'].fillna(value='Maggie Binkley')"
   ]
  },
  {
   "cell_type": "code",
   "execution_count": 24,
   "id": "ea31c9e1",
   "metadata": {},
   "outputs": [
    {
     "data": {
      "text/plain": [
       "type               0\n",
       "title              0\n",
       "director        2083\n",
       "cast            1233\n",
       "country         8996\n",
       "date_added      9513\n",
       "release_year       0\n",
       "rating           337\n",
       "duration           0\n",
       "listed_in          0\n",
       "description        0\n",
       "dtype: int64"
      ]
     },
     "execution_count": 24,
     "metadata": {},
     "output_type": "execute_result"
    }
   ],
   "source": [
    "Amazon_prime.isnull().sum()"
   ]
  },
  {
   "cell_type": "markdown",
   "id": "1d2d326a",
   "metadata": {},
   "source": [
    "Dealing with Null values in the Country column:"
   ]
  },
  {
   "cell_type": "code",
   "execution_count": 25,
   "id": "8ab250df",
   "metadata": {},
   "outputs": [
    {
     "data": {
      "text/plain": [
       "country\n",
       "United States                            253\n",
       "India                                    229\n",
       "United Kingdom                            28\n",
       "Canada                                    16\n",
       "United Kingdom, United States             12\n",
       "                                        ... \n",
       "United States, Germany, Brazil, Italy      1\n",
       "South Africa                               1\n",
       "Australia, United States, Germany          1\n",
       "Germany, Austria, United States            1\n",
       "Italy, Spain                               1\n",
       "Name: count, Length: 86, dtype: int64"
      ]
     },
     "execution_count": 25,
     "metadata": {},
     "output_type": "execute_result"
    }
   ],
   "source": [
    "Amazon_prime['country'].value_counts()"
   ]
  },
  {
   "cell_type": "code",
   "execution_count": 26,
   "id": "1ec720b0",
   "metadata": {},
   "outputs": [
    {
     "data": {
      "text/plain": [
       "0               Canada\n",
       "1                India\n",
       "2        United States\n",
       "3        United States\n",
       "4       United Kingdom\n",
       "             ...      \n",
       "9663     United States\n",
       "9664     United States\n",
       "9665     United States\n",
       "9666     United States\n",
       "9667     United States\n",
       "Name: country, Length: 9668, dtype: object"
      ]
     },
     "execution_count": 26,
     "metadata": {},
     "output_type": "execute_result"
    }
   ],
   "source": [
    "Amazon_prime['country'].fillna(value=\"United States\")"
   ]
  },
  {
   "cell_type": "code",
   "execution_count": 27,
   "id": "629f2d88",
   "metadata": {},
   "outputs": [
    {
     "data": {
      "text/plain": [
       "type               0\n",
       "title              0\n",
       "director        2083\n",
       "cast            1233\n",
       "country         8996\n",
       "date_added      9513\n",
       "release_year       0\n",
       "rating           337\n",
       "duration           0\n",
       "listed_in          0\n",
       "description        0\n",
       "dtype: int64"
      ]
     },
     "execution_count": 27,
     "metadata": {},
     "output_type": "execute_result"
    }
   ],
   "source": [
    "Amazon_prime.isnull().sum()"
   ]
  },
  {
   "cell_type": "code",
   "execution_count": 28,
   "id": "0584e521",
   "metadata": {},
   "outputs": [
    {
     "data": {
      "text/plain": [
       "date_added\n",
       "30-Mar-21    14\n",
       "27-Aug-21     6\n",
       "11-Jun-21     4\n",
       "2-Oct-21      4\n",
       "26-Sep-21     4\n",
       "             ..\n",
       "27-Jul-21     1\n",
       "26-Apr-21     1\n",
       "14-Aug-21     1\n",
       "15-Aug-21     1\n",
       "20-Jul-21     1\n",
       "Name: count, Length: 84, dtype: int64"
      ]
     },
     "execution_count": 28,
     "metadata": {},
     "output_type": "execute_result"
    }
   ],
   "source": [
    "Amazon_prime['date_added'].value_counts()"
   ]
  },
  {
   "cell_type": "code",
   "execution_count": 29,
   "id": "82641a4e",
   "metadata": {},
   "outputs": [
    {
     "data": {
      "text/plain": [
       "0         30-Mar-21\n",
       "1         30-Mar-21\n",
       "2         30-Mar-21\n",
       "3         30-Mar-21\n",
       "4         30-Mar-21\n",
       "           ...     \n",
       "9663    30-March-21\n",
       "9664    30-March-21\n",
       "9665    30-March-21\n",
       "9666    30-March-21\n",
       "9667    30-March-21\n",
       "Name: date_added, Length: 9668, dtype: object"
      ]
     },
     "execution_count": 29,
     "metadata": {},
     "output_type": "execute_result"
    }
   ],
   "source": [
    "Amazon_prime['date_added'].fillna(value=\"30-March-21\")"
   ]
  },
  {
   "cell_type": "code",
   "execution_count": 30,
   "id": "cda4e969",
   "metadata": {},
   "outputs": [
    {
     "data": {
      "text/plain": [
       "type               0\n",
       "title              0\n",
       "director        2083\n",
       "cast            1233\n",
       "country         8996\n",
       "date_added      9513\n",
       "release_year       0\n",
       "rating           337\n",
       "duration           0\n",
       "listed_in          0\n",
       "description        0\n",
       "dtype: int64"
      ]
     },
     "execution_count": 30,
     "metadata": {},
     "output_type": "execute_result"
    }
   ],
   "source": [
    "Amazon_prime.isnull().sum()"
   ]
  },
  {
   "cell_type": "code",
   "execution_count": 31,
   "id": "27a3f4df",
   "metadata": {},
   "outputs": [
    {
     "data": {
      "text/plain": [
       "rating\n",
       "13+         2117\n",
       "16+         1547\n",
       "ALL         1268\n",
       "18+         1243\n",
       "R           1010\n",
       "PG-13        393\n",
       "7+           385\n",
       "PG           253\n",
       "NR           223\n",
       "TV-14        208\n",
       "TV-PG        169\n",
       "TV-NR        105\n",
       "G             93\n",
       "TV-G          81\n",
       "TV-MA         77\n",
       "TV-Y          74\n",
       "TV-Y7         39\n",
       "UNRATED       33\n",
       "NC-17          3\n",
       "AGES_18_       3\n",
       "NOT_RATE       3\n",
       "AGES_16_       2\n",
       "16             1\n",
       "ALL_AGES       1\n",
       "Name: count, dtype: int64"
      ]
     },
     "execution_count": 31,
     "metadata": {},
     "output_type": "execute_result"
    }
   ],
   "source": [
    "Amazon_prime['rating'].value_counts()"
   ]
  },
  {
   "cell_type": "code",
   "execution_count": 32,
   "id": "d14e16b4",
   "metadata": {},
   "outputs": [
    {
     "data": {
      "text/plain": [
       "0         13+\n",
       "1         13+\n",
       "2         13+\n",
       "3         13+\n",
       "4         13+\n",
       "        ...  \n",
       "9663       7+\n",
       "9664      13+\n",
       "9665        R\n",
       "9666    TV-MA\n",
       "9667        R\n",
       "Name: rating, Length: 9668, dtype: object"
      ]
     },
     "execution_count": 32,
     "metadata": {},
     "output_type": "execute_result"
    }
   ],
   "source": [
    "Amazon_prime['rating'].fillna(value='13+')"
   ]
  },
  {
   "cell_type": "code",
   "execution_count": 33,
   "id": "ebec83a4",
   "metadata": {},
   "outputs": [
    {
     "data": {
      "text/plain": [
       "type               0\n",
       "title              0\n",
       "director        2083\n",
       "cast            1233\n",
       "country         8996\n",
       "date_added      9513\n",
       "release_year       0\n",
       "rating           337\n",
       "duration           0\n",
       "listed_in          0\n",
       "description        0\n",
       "dtype: int64"
      ]
     },
     "execution_count": 33,
     "metadata": {},
     "output_type": "execute_result"
    }
   ],
   "source": [
    "Amazon_prime.isnull().sum()"
   ]
  },
  {
   "cell_type": "markdown",
   "id": "cb0e4794",
   "metadata": {},
   "source": [
    "Dropping Columns:\n",
    "The show_id and date_added columns do not play a significant role in the analysis. Hence, these columns are dropped in the following manner:"
   ]
  },
  {
   "cell_type": "code",
   "execution_count": 34,
   "id": "4a57623f",
   "metadata": {},
   "outputs": [],
   "source": [
    "Amazon_prime =Amazon_prime.drop(['date_added'],axis=1)"
   ]
  },
  {
   "cell_type": "markdown",
   "id": "9c0817f9",
   "metadata": {},
   "source": [
    "Replacing Values in the Rating column:\n",
    "When the following line of code is executed, it can be observed that there are many values such as \"13+\" and \"PG-13\" that are similar to each other:"
   ]
  },
  {
   "cell_type": "code",
   "execution_count": 35,
   "id": "dae69d40",
   "metadata": {},
   "outputs": [
    {
     "data": {
      "text/plain": [
       "rating\n",
       "13+         2117\n",
       "16+         1547\n",
       "ALL         1268\n",
       "18+         1243\n",
       "R           1010\n",
       "PG-13        393\n",
       "7+           385\n",
       "PG           253\n",
       "NR           223\n",
       "TV-14        208\n",
       "TV-PG        169\n",
       "TV-NR        105\n",
       "G             93\n",
       "TV-G          81\n",
       "TV-MA         77\n",
       "TV-Y          74\n",
       "TV-Y7         39\n",
       "UNRATED       33\n",
       "NC-17          3\n",
       "AGES_18_       3\n",
       "NOT_RATE       3\n",
       "AGES_16_       2\n",
       "16             1\n",
       "ALL_AGES       1\n",
       "Name: count, dtype: int64"
      ]
     },
     "execution_count": 35,
     "metadata": {},
     "output_type": "execute_result"
    }
   ],
   "source": [
    "Amazon_prime['rating'].value_counts()"
   ]
  },
  {
   "cell_type": "code",
   "execution_count": 36,
   "id": "9a15d1ff",
   "metadata": {},
   "outputs": [],
   "source": [
    "def rating_cleaner(text):\n",
    "  if(text==\"13+\" or text==\"PG-13\"):\n",
    "    return (\"above13\")\n",
    "  if(text==\"16+\" or text==\"16\" or text==\"AGES_16_\"):\n",
    "    return(\"above16\")\n",
    "  if(text==\"18+\" or text==\"AGES_18_\" or text==\"R\" or text==\"NC-17\" or text==\"TV-MA\"):\n",
    "    return(\"above18\")\n",
    "  if(text==\"7+\" or text==\"TV-Y7\"):\n",
    "    return(\"above7\")\n",
    "  if(text==\"ALL_AGES\" or text==\"NOT_RATE\" or text==\"UNRATED\" or text==\"TV-G\" or text==\"G\" or text==\"TV-NR\"):\n",
    "    return(\"forall\")\n",
    "  if(text==\"TV-PG\" or text==\"PG\"):\n",
    "    return(\"parentalguidance\")"
   ]
  },
  {
   "cell_type": "code",
   "execution_count": 37,
   "id": "93ef5fb2",
   "metadata": {},
   "outputs": [],
   "source": [
    "Amazon_prime['rating']=Amazon_prime['rating'].apply(rating_cleaner)"
   ]
  },
  {
   "cell_type": "code",
   "execution_count": 38,
   "id": "6a2beaf6",
   "metadata": {},
   "outputs": [
    {
     "data": {
      "text/plain": [
       "array([None, 'above13', 'above18', 'above7', 'above16',\n",
       "       'parentalguidance', 'forall'], dtype=object)"
      ]
     },
     "execution_count": 38,
     "metadata": {},
     "output_type": "execute_result"
    }
   ],
   "source": [
    "Amazon_prime['rating'].unique()"
   ]
  },
  {
   "cell_type": "markdown",
   "id": "217598ce",
   "metadata": {},
   "source": [
    "Removing Punctuation from Columns:\n",
    "To ease out the visualization of text, the following function is written to remove punctuation:"
   ]
  },
  {
   "cell_type": "code",
   "execution_count": 39,
   "id": "f73eed8d-fa34-4174-a5c7-23711af3a7fd",
   "metadata": {},
   "outputs": [],
   "source": [
    "def remove_punctuation(text):\n",
    "    punc = r'''!()-[]{};:'\"\\,<>./?@#$%^&*_~'''\n",
    "    for ele in text:\n",
    "        if ele in punc:\n",
    "            text = text.replace(ele, \" \")\n",
    "    return text\n"
   ]
  },
  {
   "cell_type": "code",
   "execution_count": 40,
   "id": "b118ba42-0475-43b8-9f1f-8ca0c53e382d",
   "metadata": {},
   "outputs": [],
   "source": [
    "def remove_punctuation(text):\n",
    "    if isinstance(text, str):\n",
    "        punc = r'''!()-[]{};:'\"\\,<>./?@#$%^&*_~'''\n",
    "        for ele in text:\n",
    "            if ele in punc:\n",
    "                text = text.replace(ele, \" \")\n",
    "        return text\n",
    "    else:\n",
    "        return text\n"
   ]
  },
  {
   "cell_type": "code",
   "execution_count": 41,
   "id": "93faa914-5318-46d3-99c6-f8c7fb0e3ced",
   "metadata": {},
   "outputs": [],
   "source": [
    "Amazon_prime['cast'] = Amazon_prime['cast'].apply(remove_punctuation)\n"
   ]
  },
  {
   "cell_type": "code",
   "execution_count": 42,
   "id": "26e9ad29",
   "metadata": {},
   "outputs": [],
   "source": [
    "Amazon_prime['title']=Amazon_prime['title'].apply(remove_punctuation)"
   ]
  },
  {
   "cell_type": "code",
   "execution_count": 43,
   "id": "d1ff812c",
   "metadata": {},
   "outputs": [],
   "source": [
    "Amazon_prime['listed_in']=Amazon_prime['listed_in'].apply(remove_punctuation)"
   ]
  },
  {
   "cell_type": "markdown",
   "id": "5d6ec667",
   "metadata": {},
   "source": [
    "Creating separate data frames for movies and TV shows:\n",
    "The following snippet is executed to create a data frame that consists only of the movies available on Amazon Prime:"
   ]
  },
  {
   "cell_type": "code",
   "execution_count": 44,
   "id": "7ea9c7fd",
   "metadata": {},
   "outputs": [],
   "source": [
    "Amazon_prime_movies=Amazon_prime[Amazon_prime['type']==\"Movie\"]"
   ]
  },
  {
   "cell_type": "code",
   "execution_count": 45,
   "id": "3c76e5a2",
   "metadata": {},
   "outputs": [
    {
     "data": {
      "text/html": [
       "<div>\n",
       "<style scoped>\n",
       "    .dataframe tbody tr th:only-of-type {\n",
       "        vertical-align: middle;\n",
       "    }\n",
       "\n",
       "    .dataframe tbody tr th {\n",
       "        vertical-align: top;\n",
       "    }\n",
       "\n",
       "    .dataframe thead th {\n",
       "        text-align: right;\n",
       "    }\n",
       "</style>\n",
       "<table border=\"1\" class=\"dataframe\">\n",
       "  <thead>\n",
       "    <tr style=\"text-align: right;\">\n",
       "      <th></th>\n",
       "      <th>type</th>\n",
       "      <th>title</th>\n",
       "      <th>director</th>\n",
       "      <th>cast</th>\n",
       "      <th>country</th>\n",
       "      <th>release_year</th>\n",
       "      <th>rating</th>\n",
       "      <th>duration</th>\n",
       "      <th>listed_in</th>\n",
       "      <th>description</th>\n",
       "    </tr>\n",
       "  </thead>\n",
       "  <tbody>\n",
       "    <tr>\n",
       "      <th>0</th>\n",
       "      <td>Movie</td>\n",
       "      <td>The Grand Seduction</td>\n",
       "      <td>Don McKellar</td>\n",
       "      <td>Brendan Gleeson  Taylor Kitsch  Gordon Pinsent</td>\n",
       "      <td>Canada</td>\n",
       "      <td>2014</td>\n",
       "      <td>None</td>\n",
       "      <td>113 min</td>\n",
       "      <td>Comedy  Drama</td>\n",
       "      <td>A small fishing village must procure a local d...</td>\n",
       "    </tr>\n",
       "    <tr>\n",
       "      <th>1</th>\n",
       "      <td>Movie</td>\n",
       "      <td>Take Care Good Night</td>\n",
       "      <td>Girish Joshi</td>\n",
       "      <td>Mahesh Manjrekar  Abhay Mahajan  Sachin Khedekar</td>\n",
       "      <td>India</td>\n",
       "      <td>2018</td>\n",
       "      <td>above13</td>\n",
       "      <td>110 min</td>\n",
       "      <td>Drama  International</td>\n",
       "      <td>A Metro Family decides to fight a Cyber Crimin...</td>\n",
       "    </tr>\n",
       "    <tr>\n",
       "      <th>2</th>\n",
       "      <td>Movie</td>\n",
       "      <td>Secrets of Deception</td>\n",
       "      <td>Josh Webber</td>\n",
       "      <td>Tom Sizemore  Lorenzo Lamas  Robert LaSardo  R...</td>\n",
       "      <td>United States</td>\n",
       "      <td>2017</td>\n",
       "      <td>None</td>\n",
       "      <td>74 min</td>\n",
       "      <td>Action  Drama  Suspense</td>\n",
       "      <td>After a man discovers his wife is cheating on ...</td>\n",
       "    </tr>\n",
       "    <tr>\n",
       "      <th>3</th>\n",
       "      <td>Movie</td>\n",
       "      <td>Pink  Staying True</td>\n",
       "      <td>Sonia Anderson</td>\n",
       "      <td>Interviews with  Pink  Adele  Beyoncé  Britney...</td>\n",
       "      <td>United States</td>\n",
       "      <td>2014</td>\n",
       "      <td>None</td>\n",
       "      <td>69 min</td>\n",
       "      <td>Documentary</td>\n",
       "      <td>Pink breaks the mold once again, bringing her ...</td>\n",
       "    </tr>\n",
       "    <tr>\n",
       "      <th>4</th>\n",
       "      <td>Movie</td>\n",
       "      <td>Monster Maker</td>\n",
       "      <td>Giles Foster</td>\n",
       "      <td>Harry Dean Stanton  Kieran O Brien  George Cos...</td>\n",
       "      <td>United Kingdom</td>\n",
       "      <td>1989</td>\n",
       "      <td>None</td>\n",
       "      <td>45 min</td>\n",
       "      <td>Drama  Fantasy</td>\n",
       "      <td>Teenage Matt Banting wants to work with a famo...</td>\n",
       "    </tr>\n",
       "    <tr>\n",
       "      <th>...</th>\n",
       "      <td>...</td>\n",
       "      <td>...</td>\n",
       "      <td>...</td>\n",
       "      <td>...</td>\n",
       "      <td>...</td>\n",
       "      <td>...</td>\n",
       "      <td>...</td>\n",
       "      <td>...</td>\n",
       "      <td>...</td>\n",
       "      <td>...</td>\n",
       "    </tr>\n",
       "    <tr>\n",
       "      <th>9660</th>\n",
       "      <td>Movie</td>\n",
       "      <td>The Man in the Hat</td>\n",
       "      <td>John-Paul Davidson, Stephen Warbeck</td>\n",
       "      <td>Ciaran Hinds  Stephen Dillane  Maïwenn</td>\n",
       "      <td>NaN</td>\n",
       "      <td>2021</td>\n",
       "      <td>above13</td>\n",
       "      <td>96 min</td>\n",
       "      <td>Comedy</td>\n",
       "      <td>The Man in the Hat journeys through France in ...</td>\n",
       "    </tr>\n",
       "    <tr>\n",
       "      <th>9662</th>\n",
       "      <td>Movie</td>\n",
       "      <td>River</td>\n",
       "      <td>Emily Skye</td>\n",
       "      <td>Mary Cameron Rogers  Alexandra Rose  Rob Marsh...</td>\n",
       "      <td>NaN</td>\n",
       "      <td>2021</td>\n",
       "      <td>above16</td>\n",
       "      <td>93 min</td>\n",
       "      <td>Drama  Science Fiction  Suspense</td>\n",
       "      <td>River is a grounded Sci-Fi mystery Thriller, t...</td>\n",
       "    </tr>\n",
       "    <tr>\n",
       "      <th>9663</th>\n",
       "      <td>Movie</td>\n",
       "      <td>Pride Of The Bowery</td>\n",
       "      <td>Joseph H. Lewis</td>\n",
       "      <td>Leo Gorcey  Bobby Jordan</td>\n",
       "      <td>NaN</td>\n",
       "      <td>1940</td>\n",
       "      <td>above7</td>\n",
       "      <td>60 min</td>\n",
       "      <td>Comedy</td>\n",
       "      <td>New York City street principles get an East Si...</td>\n",
       "    </tr>\n",
       "    <tr>\n",
       "      <th>9665</th>\n",
       "      <td>Movie</td>\n",
       "      <td>Outpost</td>\n",
       "      <td>Steve Barker</td>\n",
       "      <td>Ray Stevenson  Julian Wadham  Richard Brake  M...</td>\n",
       "      <td>NaN</td>\n",
       "      <td>2008</td>\n",
       "      <td>above18</td>\n",
       "      <td>90 min</td>\n",
       "      <td>Action</td>\n",
       "      <td>In war-torn Eastern Europe, a world-weary grou...</td>\n",
       "    </tr>\n",
       "    <tr>\n",
       "      <th>9667</th>\n",
       "      <td>Movie</td>\n",
       "      <td>Harry Brown</td>\n",
       "      <td>Daniel Barber</td>\n",
       "      <td>Michael Caine  Emily Mortimer  Joseph Gilgun  ...</td>\n",
       "      <td>NaN</td>\n",
       "      <td>2010</td>\n",
       "      <td>above18</td>\n",
       "      <td>103 min</td>\n",
       "      <td>Action  Drama  Suspense</td>\n",
       "      <td>Harry Brown, starring two-time Academy Award w...</td>\n",
       "    </tr>\n",
       "  </tbody>\n",
       "</table>\n",
       "<p>7814 rows × 10 columns</p>\n",
       "</div>"
      ],
      "text/plain": [
       "       type                 title                             director  \\\n",
       "0     Movie   The Grand Seduction                         Don McKellar   \n",
       "1     Movie  Take Care Good Night                         Girish Joshi   \n",
       "2     Movie  Secrets of Deception                          Josh Webber   \n",
       "3     Movie    Pink  Staying True                       Sonia Anderson   \n",
       "4     Movie         Monster Maker                         Giles Foster   \n",
       "...     ...                   ...                                  ...   \n",
       "9660  Movie    The Man in the Hat  John-Paul Davidson, Stephen Warbeck   \n",
       "9662  Movie                 River                           Emily Skye   \n",
       "9663  Movie   Pride Of The Bowery                      Joseph H. Lewis   \n",
       "9665  Movie               Outpost                         Steve Barker   \n",
       "9667  Movie           Harry Brown                        Daniel Barber   \n",
       "\n",
       "                                                   cast         country  \\\n",
       "0        Brendan Gleeson  Taylor Kitsch  Gordon Pinsent          Canada   \n",
       "1      Mahesh Manjrekar  Abhay Mahajan  Sachin Khedekar           India   \n",
       "2     Tom Sizemore  Lorenzo Lamas  Robert LaSardo  R...   United States   \n",
       "3     Interviews with  Pink  Adele  Beyoncé  Britney...   United States   \n",
       "4     Harry Dean Stanton  Kieran O Brien  George Cos...  United Kingdom   \n",
       "...                                                 ...             ...   \n",
       "9660             Ciaran Hinds  Stephen Dillane  Maïwenn             NaN   \n",
       "9662  Mary Cameron Rogers  Alexandra Rose  Rob Marsh...             NaN   \n",
       "9663                           Leo Gorcey  Bobby Jordan             NaN   \n",
       "9665  Ray Stevenson  Julian Wadham  Richard Brake  M...             NaN   \n",
       "9667  Michael Caine  Emily Mortimer  Joseph Gilgun  ...             NaN   \n",
       "\n",
       "      release_year   rating duration                         listed_in  \\\n",
       "0             2014     None  113 min                     Comedy  Drama   \n",
       "1             2018  above13  110 min              Drama  International   \n",
       "2             2017     None   74 min           Action  Drama  Suspense   \n",
       "3             2014     None   69 min                       Documentary   \n",
       "4             1989     None   45 min                    Drama  Fantasy   \n",
       "...            ...      ...      ...                               ...   \n",
       "9660          2021  above13   96 min                            Comedy   \n",
       "9662          2021  above16   93 min  Drama  Science Fiction  Suspense   \n",
       "9663          1940   above7   60 min                            Comedy   \n",
       "9665          2008  above18   90 min                            Action   \n",
       "9667          2010  above18  103 min           Action  Drama  Suspense   \n",
       "\n",
       "                                            description  \n",
       "0     A small fishing village must procure a local d...  \n",
       "1     A Metro Family decides to fight a Cyber Crimin...  \n",
       "2     After a man discovers his wife is cheating on ...  \n",
       "3     Pink breaks the mold once again, bringing her ...  \n",
       "4     Teenage Matt Banting wants to work with a famo...  \n",
       "...                                                 ...  \n",
       "9660  The Man in the Hat journeys through France in ...  \n",
       "9662  River is a grounded Sci-Fi mystery Thriller, t...  \n",
       "9663  New York City street principles get an East Si...  \n",
       "9665  In war-torn Eastern Europe, a world-weary grou...  \n",
       "9667  Harry Brown, starring two-time Academy Award w...  \n",
       "\n",
       "[7814 rows x 10 columns]"
      ]
     },
     "execution_count": 45,
     "metadata": {},
     "output_type": "execute_result"
    }
   ],
   "source": [
    "Amazon_prime_movies"
   ]
  },
  {
   "cell_type": "markdown",
   "id": "bc4b9b6a",
   "metadata": {},
   "source": [
    "Creating separate data frames for movies and TV shows:\n",
    "The following snippet is executed to create a data frame that consists only of the movies available on Amazon Prime:"
   ]
  },
  {
   "cell_type": "code",
   "execution_count": 46,
   "id": "32250c87",
   "metadata": {},
   "outputs": [],
   "source": [
    "Amazon_prime_movies=Amazon_prime[Amazon_prime['type']==\"Movie\"]"
   ]
  },
  {
   "cell_type": "code",
   "execution_count": 47,
   "id": "a58052b8",
   "metadata": {},
   "outputs": [],
   "source": [
    "Amazon_prime_tvshows=Amazon_prime[Amazon_prime['type']==\"TV Show\"]"
   ]
  },
  {
   "cell_type": "markdown",
   "id": "bf29deb6",
   "metadata": {},
   "source": [
    "Creating the Time column in the Movies data frame:\n",
    "The following snippet is executed to create the Time column in df_movies from the Duration column:"
   ]
  },
  {
   "cell_type": "code",
   "execution_count": 48,
   "id": "784f91b0-b7b1-45f4-aa1c-d7fd96fea175",
   "metadata": {},
   "outputs": [],
   "source": [
    "# Create a copy of the DataFrame slice before modifying it\n",
    "Amazon_prime_movies = Amazon_prime_movies.copy()\n",
    "\n",
    "# Split the 'duration' column into 'time' and 'min'\n",
    "Amazon_prime_movies[['time', 'min']] = Amazon_prime_movies['duration'].str.split(\" \", expand=True)\n"
   ]
  },
  {
   "cell_type": "code",
   "execution_count": 49,
   "id": "bf90180b",
   "metadata": {},
   "outputs": [],
   "source": [
    "Amazon_prime_movies=Amazon_prime_movies.astype({'time':'int'})"
   ]
  },
  {
   "cell_type": "code",
   "execution_count": 50,
   "id": "3aed2415",
   "metadata": {},
   "outputs": [
    {
     "data": {
      "text/html": [
       "<div>\n",
       "<style scoped>\n",
       "    .dataframe tbody tr th:only-of-type {\n",
       "        vertical-align: middle;\n",
       "    }\n",
       "\n",
       "    .dataframe tbody tr th {\n",
       "        vertical-align: top;\n",
       "    }\n",
       "\n",
       "    .dataframe thead th {\n",
       "        text-align: right;\n",
       "    }\n",
       "</style>\n",
       "<table border=\"1\" class=\"dataframe\">\n",
       "  <thead>\n",
       "    <tr style=\"text-align: right;\">\n",
       "      <th></th>\n",
       "      <th>type</th>\n",
       "      <th>title</th>\n",
       "      <th>director</th>\n",
       "      <th>cast</th>\n",
       "      <th>country</th>\n",
       "      <th>release_year</th>\n",
       "      <th>rating</th>\n",
       "      <th>listed_in</th>\n",
       "      <th>description</th>\n",
       "      <th>time</th>\n",
       "    </tr>\n",
       "  </thead>\n",
       "  <tbody>\n",
       "    <tr>\n",
       "      <th>0</th>\n",
       "      <td>Movie</td>\n",
       "      <td>The Grand Seduction</td>\n",
       "      <td>Don McKellar</td>\n",
       "      <td>Brendan Gleeson  Taylor Kitsch  Gordon Pinsent</td>\n",
       "      <td>Canada</td>\n",
       "      <td>2014</td>\n",
       "      <td>None</td>\n",
       "      <td>Comedy  Drama</td>\n",
       "      <td>A small fishing village must procure a local d...</td>\n",
       "      <td>113</td>\n",
       "    </tr>\n",
       "    <tr>\n",
       "      <th>1</th>\n",
       "      <td>Movie</td>\n",
       "      <td>Take Care Good Night</td>\n",
       "      <td>Girish Joshi</td>\n",
       "      <td>Mahesh Manjrekar  Abhay Mahajan  Sachin Khedekar</td>\n",
       "      <td>India</td>\n",
       "      <td>2018</td>\n",
       "      <td>above13</td>\n",
       "      <td>Drama  International</td>\n",
       "      <td>A Metro Family decides to fight a Cyber Crimin...</td>\n",
       "      <td>110</td>\n",
       "    </tr>\n",
       "    <tr>\n",
       "      <th>2</th>\n",
       "      <td>Movie</td>\n",
       "      <td>Secrets of Deception</td>\n",
       "      <td>Josh Webber</td>\n",
       "      <td>Tom Sizemore  Lorenzo Lamas  Robert LaSardo  R...</td>\n",
       "      <td>United States</td>\n",
       "      <td>2017</td>\n",
       "      <td>None</td>\n",
       "      <td>Action  Drama  Suspense</td>\n",
       "      <td>After a man discovers his wife is cheating on ...</td>\n",
       "      <td>74</td>\n",
       "    </tr>\n",
       "    <tr>\n",
       "      <th>3</th>\n",
       "      <td>Movie</td>\n",
       "      <td>Pink  Staying True</td>\n",
       "      <td>Sonia Anderson</td>\n",
       "      <td>Interviews with  Pink  Adele  Beyoncé  Britney...</td>\n",
       "      <td>United States</td>\n",
       "      <td>2014</td>\n",
       "      <td>None</td>\n",
       "      <td>Documentary</td>\n",
       "      <td>Pink breaks the mold once again, bringing her ...</td>\n",
       "      <td>69</td>\n",
       "    </tr>\n",
       "    <tr>\n",
       "      <th>4</th>\n",
       "      <td>Movie</td>\n",
       "      <td>Monster Maker</td>\n",
       "      <td>Giles Foster</td>\n",
       "      <td>Harry Dean Stanton  Kieran O Brien  George Cos...</td>\n",
       "      <td>United Kingdom</td>\n",
       "      <td>1989</td>\n",
       "      <td>None</td>\n",
       "      <td>Drama  Fantasy</td>\n",
       "      <td>Teenage Matt Banting wants to work with a famo...</td>\n",
       "      <td>45</td>\n",
       "    </tr>\n",
       "    <tr>\n",
       "      <th>...</th>\n",
       "      <td>...</td>\n",
       "      <td>...</td>\n",
       "      <td>...</td>\n",
       "      <td>...</td>\n",
       "      <td>...</td>\n",
       "      <td>...</td>\n",
       "      <td>...</td>\n",
       "      <td>...</td>\n",
       "      <td>...</td>\n",
       "      <td>...</td>\n",
       "    </tr>\n",
       "    <tr>\n",
       "      <th>9660</th>\n",
       "      <td>Movie</td>\n",
       "      <td>The Man in the Hat</td>\n",
       "      <td>John-Paul Davidson, Stephen Warbeck</td>\n",
       "      <td>Ciaran Hinds  Stephen Dillane  Maïwenn</td>\n",
       "      <td>NaN</td>\n",
       "      <td>2021</td>\n",
       "      <td>above13</td>\n",
       "      <td>Comedy</td>\n",
       "      <td>The Man in the Hat journeys through France in ...</td>\n",
       "      <td>96</td>\n",
       "    </tr>\n",
       "    <tr>\n",
       "      <th>9662</th>\n",
       "      <td>Movie</td>\n",
       "      <td>River</td>\n",
       "      <td>Emily Skye</td>\n",
       "      <td>Mary Cameron Rogers  Alexandra Rose  Rob Marsh...</td>\n",
       "      <td>NaN</td>\n",
       "      <td>2021</td>\n",
       "      <td>above16</td>\n",
       "      <td>Drama  Science Fiction  Suspense</td>\n",
       "      <td>River is a grounded Sci-Fi mystery Thriller, t...</td>\n",
       "      <td>93</td>\n",
       "    </tr>\n",
       "    <tr>\n",
       "      <th>9663</th>\n",
       "      <td>Movie</td>\n",
       "      <td>Pride Of The Bowery</td>\n",
       "      <td>Joseph H. Lewis</td>\n",
       "      <td>Leo Gorcey  Bobby Jordan</td>\n",
       "      <td>NaN</td>\n",
       "      <td>1940</td>\n",
       "      <td>above7</td>\n",
       "      <td>Comedy</td>\n",
       "      <td>New York City street principles get an East Si...</td>\n",
       "      <td>60</td>\n",
       "    </tr>\n",
       "    <tr>\n",
       "      <th>9665</th>\n",
       "      <td>Movie</td>\n",
       "      <td>Outpost</td>\n",
       "      <td>Steve Barker</td>\n",
       "      <td>Ray Stevenson  Julian Wadham  Richard Brake  M...</td>\n",
       "      <td>NaN</td>\n",
       "      <td>2008</td>\n",
       "      <td>above18</td>\n",
       "      <td>Action</td>\n",
       "      <td>In war-torn Eastern Europe, a world-weary grou...</td>\n",
       "      <td>90</td>\n",
       "    </tr>\n",
       "    <tr>\n",
       "      <th>9667</th>\n",
       "      <td>Movie</td>\n",
       "      <td>Harry Brown</td>\n",
       "      <td>Daniel Barber</td>\n",
       "      <td>Michael Caine  Emily Mortimer  Joseph Gilgun  ...</td>\n",
       "      <td>NaN</td>\n",
       "      <td>2010</td>\n",
       "      <td>above18</td>\n",
       "      <td>Action  Drama  Suspense</td>\n",
       "      <td>Harry Brown, starring two-time Academy Award w...</td>\n",
       "      <td>103</td>\n",
       "    </tr>\n",
       "  </tbody>\n",
       "</table>\n",
       "<p>7814 rows × 10 columns</p>\n",
       "</div>"
      ],
      "text/plain": [
       "       type                 title                             director  \\\n",
       "0     Movie   The Grand Seduction                         Don McKellar   \n",
       "1     Movie  Take Care Good Night                         Girish Joshi   \n",
       "2     Movie  Secrets of Deception                          Josh Webber   \n",
       "3     Movie    Pink  Staying True                       Sonia Anderson   \n",
       "4     Movie         Monster Maker                         Giles Foster   \n",
       "...     ...                   ...                                  ...   \n",
       "9660  Movie    The Man in the Hat  John-Paul Davidson, Stephen Warbeck   \n",
       "9662  Movie                 River                           Emily Skye   \n",
       "9663  Movie   Pride Of The Bowery                      Joseph H. Lewis   \n",
       "9665  Movie               Outpost                         Steve Barker   \n",
       "9667  Movie           Harry Brown                        Daniel Barber   \n",
       "\n",
       "                                                   cast         country  \\\n",
       "0        Brendan Gleeson  Taylor Kitsch  Gordon Pinsent          Canada   \n",
       "1      Mahesh Manjrekar  Abhay Mahajan  Sachin Khedekar           India   \n",
       "2     Tom Sizemore  Lorenzo Lamas  Robert LaSardo  R...   United States   \n",
       "3     Interviews with  Pink  Adele  Beyoncé  Britney...   United States   \n",
       "4     Harry Dean Stanton  Kieran O Brien  George Cos...  United Kingdom   \n",
       "...                                                 ...             ...   \n",
       "9660             Ciaran Hinds  Stephen Dillane  Maïwenn             NaN   \n",
       "9662  Mary Cameron Rogers  Alexandra Rose  Rob Marsh...             NaN   \n",
       "9663                           Leo Gorcey  Bobby Jordan             NaN   \n",
       "9665  Ray Stevenson  Julian Wadham  Richard Brake  M...             NaN   \n",
       "9667  Michael Caine  Emily Mortimer  Joseph Gilgun  ...             NaN   \n",
       "\n",
       "      release_year   rating                         listed_in  \\\n",
       "0             2014     None                     Comedy  Drama   \n",
       "1             2018  above13              Drama  International   \n",
       "2             2017     None           Action  Drama  Suspense   \n",
       "3             2014     None                       Documentary   \n",
       "4             1989     None                    Drama  Fantasy   \n",
       "...            ...      ...                               ...   \n",
       "9660          2021  above13                            Comedy   \n",
       "9662          2021  above16  Drama  Science Fiction  Suspense   \n",
       "9663          1940   above7                            Comedy   \n",
       "9665          2008  above18                            Action   \n",
       "9667          2010  above18           Action  Drama  Suspense   \n",
       "\n",
       "                                            description  time  \n",
       "0     A small fishing village must procure a local d...   113  \n",
       "1     A Metro Family decides to fight a Cyber Crimin...   110  \n",
       "2     After a man discovers his wife is cheating on ...    74  \n",
       "3     Pink breaks the mold once again, bringing her ...    69  \n",
       "4     Teenage Matt Banting wants to work with a famo...    45  \n",
       "...                                                 ...   ...  \n",
       "9660  The Man in the Hat journeys through France in ...    96  \n",
       "9662  River is a grounded Sci-Fi mystery Thriller, t...    93  \n",
       "9663  New York City street principles get an East Si...    60  \n",
       "9665  In war-torn Eastern Europe, a world-weary grou...    90  \n",
       "9667  Harry Brown, starring two-time Academy Award w...   103  \n",
       "\n",
       "[7814 rows x 10 columns]"
      ]
     },
     "execution_count": 50,
     "metadata": {},
     "output_type": "execute_result"
    }
   ],
   "source": [
    "Amazon_prime_movies.drop(['duration','min'],axis=1)"
   ]
  },
  {
   "cell_type": "markdown",
   "id": "56844d75",
   "metadata": {},
   "source": [
    "Creating the Seasons column in the TV shows data frame:\n",
    "In order to extract the number of seasons, the duration column is split into \"seasons\" and \"remaining\" columns in the manner given below:"
   ]
  },
  {
   "cell_type": "code",
   "execution_count": 51,
   "id": "321f7939-215e-4d02-8202-0716fc71b728",
   "metadata": {},
   "outputs": [],
   "source": [
    "# Create a copy of the DataFrame slice before modifying it\n",
    "Amazon_prime_tvshows = Amazon_prime_tvshows.copy()\n",
    "\n",
    "# Split the 'duration' column into 'seasons' and 'remaining'\n",
    "Amazon_prime_tvshows[['seasons', 'remaining']] = Amazon_prime_tvshows['duration'].str.split(\" \", expand=True)\n"
   ]
  },
  {
   "cell_type": "code",
   "execution_count": 52,
   "id": "5eb5e18d",
   "metadata": {},
   "outputs": [
    {
     "data": {
      "text/html": [
       "<div>\n",
       "<style scoped>\n",
       "    .dataframe tbody tr th:only-of-type {\n",
       "        vertical-align: middle;\n",
       "    }\n",
       "\n",
       "    .dataframe tbody tr th {\n",
       "        vertical-align: top;\n",
       "    }\n",
       "\n",
       "    .dataframe thead th {\n",
       "        text-align: right;\n",
       "    }\n",
       "</style>\n",
       "<table border=\"1\" class=\"dataframe\">\n",
       "  <thead>\n",
       "    <tr style=\"text-align: right;\">\n",
       "      <th></th>\n",
       "      <th>type</th>\n",
       "      <th>title</th>\n",
       "      <th>director</th>\n",
       "      <th>cast</th>\n",
       "      <th>country</th>\n",
       "      <th>release_year</th>\n",
       "      <th>rating</th>\n",
       "      <th>duration</th>\n",
       "      <th>listed_in</th>\n",
       "      <th>description</th>\n",
       "      <th>seasons</th>\n",
       "      <th>remaining</th>\n",
       "    </tr>\n",
       "  </thead>\n",
       "  <tbody>\n",
       "    <tr>\n",
       "      <th>17</th>\n",
       "      <td>TV Show</td>\n",
       "      <td>Zoo Babies</td>\n",
       "      <td>NaN</td>\n",
       "      <td>Narrator   Gillian Barlett</td>\n",
       "      <td>NaN</td>\n",
       "      <td>2008</td>\n",
       "      <td>None</td>\n",
       "      <td>1 Season</td>\n",
       "      <td>Kids  Special Interest</td>\n",
       "      <td>A heart warming and inspiring series that welc...</td>\n",
       "      <td>1</td>\n",
       "      <td>Season</td>\n",
       "    </tr>\n",
       "    <tr>\n",
       "      <th>18</th>\n",
       "      <td>TV Show</td>\n",
       "      <td>Zoë Coombs Marr  Bossy Bottom</td>\n",
       "      <td>NaN</td>\n",
       "      <td>Zoë Coombs Marr</td>\n",
       "      <td>NaN</td>\n",
       "      <td>2020</td>\n",
       "      <td>above18</td>\n",
       "      <td>1 Season</td>\n",
       "      <td>Comedy  Talk Show and Variety</td>\n",
       "      <td>Zoë Coombs Marr has been on hiatus. Sort of. F...</td>\n",
       "      <td>1</td>\n",
       "      <td>Season</td>\n",
       "    </tr>\n",
       "    <tr>\n",
       "      <th>20</th>\n",
       "      <td>TV Show</td>\n",
       "      <td>Zoboomafoo</td>\n",
       "      <td>NaN</td>\n",
       "      <td>NaN</td>\n",
       "      <td>NaN</td>\n",
       "      <td>2001</td>\n",
       "      <td>None</td>\n",
       "      <td>1 Season</td>\n",
       "      <td>Kids</td>\n",
       "      <td>Chris and Martin Kratt bring their enthusiasm ...</td>\n",
       "      <td>1</td>\n",
       "      <td>Season</td>\n",
       "    </tr>\n",
       "    <tr>\n",
       "      <th>21</th>\n",
       "      <td>TV Show</td>\n",
       "      <td>Zo Zo Zombie  Mini Series</td>\n",
       "      <td>NaN</td>\n",
       "      <td>Alex Cazares  Ben Diskin  Cristina Vee  Erika ...</td>\n",
       "      <td>NaN</td>\n",
       "      <td>2020</td>\n",
       "      <td>above7</td>\n",
       "      <td>1 Season</td>\n",
       "      <td>Action  Anime  Comedy</td>\n",
       "      <td>Zo Zo Zombie is our undead hero who, with his ...</td>\n",
       "      <td>1</td>\n",
       "      <td>Season</td>\n",
       "    </tr>\n",
       "    <tr>\n",
       "      <th>23</th>\n",
       "      <td>TV Show</td>\n",
       "      <td>ZeroZeroZero</td>\n",
       "      <td>NaN</td>\n",
       "      <td>ANDREA RISEBOROUGH  HAROLD TORRES  CLAUDIA PIN...</td>\n",
       "      <td>Italy</td>\n",
       "      <td>2020</td>\n",
       "      <td>above18</td>\n",
       "      <td>1 Season</td>\n",
       "      <td>TV Shows</td>\n",
       "      <td>ZeroZeroZero series follows the journey of a c...</td>\n",
       "      <td>1</td>\n",
       "      <td>Season</td>\n",
       "    </tr>\n",
       "    <tr>\n",
       "      <th>...</th>\n",
       "      <td>...</td>\n",
       "      <td>...</td>\n",
       "      <td>...</td>\n",
       "      <td>...</td>\n",
       "      <td>...</td>\n",
       "      <td>...</td>\n",
       "      <td>...</td>\n",
       "      <td>...</td>\n",
       "      <td>...</td>\n",
       "      <td>...</td>\n",
       "      <td>...</td>\n",
       "      <td>...</td>\n",
       "    </tr>\n",
       "    <tr>\n",
       "      <th>9651</th>\n",
       "      <td>TV Show</td>\n",
       "      <td>Glass Room</td>\n",
       "      <td>NaN</td>\n",
       "      <td>Elizaveta Maiskaya  Vsevolod Boldin  Alexander...</td>\n",
       "      <td>NaN</td>\n",
       "      <td>2019</td>\n",
       "      <td>above16</td>\n",
       "      <td>1 Season</td>\n",
       "      <td>Drama</td>\n",
       "      <td>Geography teacher Elena lives with her husband...</td>\n",
       "      <td>1</td>\n",
       "      <td>Season</td>\n",
       "    </tr>\n",
       "    <tr>\n",
       "      <th>9655</th>\n",
       "      <td>TV Show</td>\n",
       "      <td>DaFUNdamentals Series</td>\n",
       "      <td>NaN</td>\n",
       "      <td>Emile Crawford  Randall Crawford  Jon Ward</td>\n",
       "      <td>NaN</td>\n",
       "      <td>2021</td>\n",
       "      <td>None</td>\n",
       "      <td>1 Season</td>\n",
       "      <td>Animation  Kids</td>\n",
       "      <td>Learn \"daFundamentals\" through song and fun ch...</td>\n",
       "      <td>1</td>\n",
       "      <td>Season</td>\n",
       "    </tr>\n",
       "    <tr>\n",
       "      <th>9661</th>\n",
       "      <td>TV Show</td>\n",
       "      <td>Terrahawks</td>\n",
       "      <td>NaN</td>\n",
       "      <td>DENISE BRYER  WINDSOR DAVIES  JEREMY HITCHEN  ...</td>\n",
       "      <td>NaN</td>\n",
       "      <td>1983</td>\n",
       "      <td>None</td>\n",
       "      <td>3 Seasons</td>\n",
       "      <td>TV Shows</td>\n",
       "      <td>This thrilling, action-packed series saw Gerry...</td>\n",
       "      <td>3</td>\n",
       "      <td>Seasons</td>\n",
       "    </tr>\n",
       "    <tr>\n",
       "      <th>9664</th>\n",
       "      <td>TV Show</td>\n",
       "      <td>Planet Patrol</td>\n",
       "      <td>NaN</td>\n",
       "      <td>DICK VOSBURGH  RONNIE STEVENS  LIBBY MORRIS  M...</td>\n",
       "      <td>NaN</td>\n",
       "      <td>2018</td>\n",
       "      <td>above13</td>\n",
       "      <td>4 Seasons</td>\n",
       "      <td>TV Shows</td>\n",
       "      <td>This is Earth, 2100AD - and these are the adve...</td>\n",
       "      <td>4</td>\n",
       "      <td>Seasons</td>\n",
       "    </tr>\n",
       "    <tr>\n",
       "      <th>9666</th>\n",
       "      <td>TV Show</td>\n",
       "      <td>Maradona  Blessed Dream</td>\n",
       "      <td>NaN</td>\n",
       "      <td>Esteban Recagno  Ezequiel Stremiz  Luciano Vit...</td>\n",
       "      <td>NaN</td>\n",
       "      <td>2021</td>\n",
       "      <td>above18</td>\n",
       "      <td>1 Season</td>\n",
       "      <td>Drama  Sports</td>\n",
       "      <td>The series tells the story of Diego Maradona, ...</td>\n",
       "      <td>1</td>\n",
       "      <td>Season</td>\n",
       "    </tr>\n",
       "  </tbody>\n",
       "</table>\n",
       "<p>1854 rows × 12 columns</p>\n",
       "</div>"
      ],
      "text/plain": [
       "         type                          title director  \\\n",
       "17    TV Show                     Zoo Babies      NaN   \n",
       "18    TV Show  Zoë Coombs Marr  Bossy Bottom      NaN   \n",
       "20    TV Show                     Zoboomafoo      NaN   \n",
       "21    TV Show      Zo Zo Zombie  Mini Series      NaN   \n",
       "23    TV Show                   ZeroZeroZero      NaN   \n",
       "...       ...                            ...      ...   \n",
       "9651  TV Show                     Glass Room      NaN   \n",
       "9655  TV Show          DaFUNdamentals Series      NaN   \n",
       "9661  TV Show                     Terrahawks      NaN   \n",
       "9664  TV Show                  Planet Patrol      NaN   \n",
       "9666  TV Show        Maradona  Blessed Dream      NaN   \n",
       "\n",
       "                                                   cast country  release_year  \\\n",
       "17                           Narrator   Gillian Barlett     NaN          2008   \n",
       "18                                      Zoë Coombs Marr     NaN          2020   \n",
       "20                                                  NaN     NaN          2001   \n",
       "21    Alex Cazares  Ben Diskin  Cristina Vee  Erika ...     NaN          2020   \n",
       "23    ANDREA RISEBOROUGH  HAROLD TORRES  CLAUDIA PIN...   Italy          2020   \n",
       "...                                                 ...     ...           ...   \n",
       "9651  Elizaveta Maiskaya  Vsevolod Boldin  Alexander...     NaN          2019   \n",
       "9655         Emile Crawford  Randall Crawford  Jon Ward     NaN          2021   \n",
       "9661  DENISE BRYER  WINDSOR DAVIES  JEREMY HITCHEN  ...     NaN          1983   \n",
       "9664  DICK VOSBURGH  RONNIE STEVENS  LIBBY MORRIS  M...     NaN          2018   \n",
       "9666  Esteban Recagno  Ezequiel Stremiz  Luciano Vit...     NaN          2021   \n",
       "\n",
       "       rating   duration                      listed_in  \\\n",
       "17       None   1 Season         Kids  Special Interest   \n",
       "18    above18   1 Season  Comedy  Talk Show and Variety   \n",
       "20       None   1 Season                           Kids   \n",
       "21     above7   1 Season          Action  Anime  Comedy   \n",
       "23    above18   1 Season                       TV Shows   \n",
       "...       ...        ...                            ...   \n",
       "9651  above16   1 Season                          Drama   \n",
       "9655     None   1 Season                Animation  Kids   \n",
       "9661     None  3 Seasons                       TV Shows   \n",
       "9664  above13  4 Seasons                       TV Shows   \n",
       "9666  above18   1 Season                  Drama  Sports   \n",
       "\n",
       "                                            description seasons remaining  \n",
       "17    A heart warming and inspiring series that welc...       1    Season  \n",
       "18    Zoë Coombs Marr has been on hiatus. Sort of. F...       1    Season  \n",
       "20    Chris and Martin Kratt bring their enthusiasm ...       1    Season  \n",
       "21    Zo Zo Zombie is our undead hero who, with his ...       1    Season  \n",
       "23    ZeroZeroZero series follows the journey of a c...       1    Season  \n",
       "...                                                 ...     ...       ...  \n",
       "9651  Geography teacher Elena lives with her husband...       1    Season  \n",
       "9655  Learn \"daFundamentals\" through song and fun ch...       1    Season  \n",
       "9661  This thrilling, action-packed series saw Gerry...       3   Seasons  \n",
       "9664  This is Earth, 2100AD - and these are the adve...       4   Seasons  \n",
       "9666  The series tells the story of Diego Maradona, ...       1    Season  \n",
       "\n",
       "[1854 rows x 12 columns]"
      ]
     },
     "execution_count": 52,
     "metadata": {},
     "output_type": "execute_result"
    }
   ],
   "source": [
    "Amazon_prime_tvshows"
   ]
  },
  {
   "cell_type": "code",
   "execution_count": 53,
   "id": "e47d0c14",
   "metadata": {},
   "outputs": [
    {
     "data": {
      "text/html": [
       "<div>\n",
       "<style scoped>\n",
       "    .dataframe tbody tr th:only-of-type {\n",
       "        vertical-align: middle;\n",
       "    }\n",
       "\n",
       "    .dataframe tbody tr th {\n",
       "        vertical-align: top;\n",
       "    }\n",
       "\n",
       "    .dataframe thead th {\n",
       "        text-align: right;\n",
       "    }\n",
       "</style>\n",
       "<table border=\"1\" class=\"dataframe\">\n",
       "  <thead>\n",
       "    <tr style=\"text-align: right;\">\n",
       "      <th></th>\n",
       "      <th>type</th>\n",
       "      <th>title</th>\n",
       "      <th>director</th>\n",
       "      <th>cast</th>\n",
       "      <th>country</th>\n",
       "      <th>release_year</th>\n",
       "      <th>rating</th>\n",
       "      <th>duration</th>\n",
       "      <th>listed_in</th>\n",
       "      <th>description</th>\n",
       "      <th>seasons</th>\n",
       "      <th>remaining</th>\n",
       "    </tr>\n",
       "  </thead>\n",
       "  <tbody>\n",
       "    <tr>\n",
       "      <th>17</th>\n",
       "      <td>TV Show</td>\n",
       "      <td>Zoo Babies</td>\n",
       "      <td>NaN</td>\n",
       "      <td>Narrator   Gillian Barlett</td>\n",
       "      <td>NaN</td>\n",
       "      <td>2008</td>\n",
       "      <td>None</td>\n",
       "      <td>1 Season</td>\n",
       "      <td>Kids  Special Interest</td>\n",
       "      <td>A heart warming and inspiring series that welc...</td>\n",
       "      <td>1</td>\n",
       "      <td>Season</td>\n",
       "    </tr>\n",
       "    <tr>\n",
       "      <th>18</th>\n",
       "      <td>TV Show</td>\n",
       "      <td>Zoë Coombs Marr  Bossy Bottom</td>\n",
       "      <td>NaN</td>\n",
       "      <td>Zoë Coombs Marr</td>\n",
       "      <td>NaN</td>\n",
       "      <td>2020</td>\n",
       "      <td>above18</td>\n",
       "      <td>1 Season</td>\n",
       "      <td>Comedy  Talk Show and Variety</td>\n",
       "      <td>Zoë Coombs Marr has been on hiatus. Sort of. F...</td>\n",
       "      <td>1</td>\n",
       "      <td>Season</td>\n",
       "    </tr>\n",
       "    <tr>\n",
       "      <th>20</th>\n",
       "      <td>TV Show</td>\n",
       "      <td>Zoboomafoo</td>\n",
       "      <td>NaN</td>\n",
       "      <td>NaN</td>\n",
       "      <td>NaN</td>\n",
       "      <td>2001</td>\n",
       "      <td>None</td>\n",
       "      <td>1 Season</td>\n",
       "      <td>Kids</td>\n",
       "      <td>Chris and Martin Kratt bring their enthusiasm ...</td>\n",
       "      <td>1</td>\n",
       "      <td>Season</td>\n",
       "    </tr>\n",
       "    <tr>\n",
       "      <th>21</th>\n",
       "      <td>TV Show</td>\n",
       "      <td>Zo Zo Zombie  Mini Series</td>\n",
       "      <td>NaN</td>\n",
       "      <td>Alex Cazares  Ben Diskin  Cristina Vee  Erika ...</td>\n",
       "      <td>NaN</td>\n",
       "      <td>2020</td>\n",
       "      <td>above7</td>\n",
       "      <td>1 Season</td>\n",
       "      <td>Action  Anime  Comedy</td>\n",
       "      <td>Zo Zo Zombie is our undead hero who, with his ...</td>\n",
       "      <td>1</td>\n",
       "      <td>Season</td>\n",
       "    </tr>\n",
       "    <tr>\n",
       "      <th>23</th>\n",
       "      <td>TV Show</td>\n",
       "      <td>ZeroZeroZero</td>\n",
       "      <td>NaN</td>\n",
       "      <td>ANDREA RISEBOROUGH  HAROLD TORRES  CLAUDIA PIN...</td>\n",
       "      <td>Italy</td>\n",
       "      <td>2020</td>\n",
       "      <td>above18</td>\n",
       "      <td>1 Season</td>\n",
       "      <td>TV Shows</td>\n",
       "      <td>ZeroZeroZero series follows the journey of a c...</td>\n",
       "      <td>1</td>\n",
       "      <td>Season</td>\n",
       "    </tr>\n",
       "    <tr>\n",
       "      <th>...</th>\n",
       "      <td>...</td>\n",
       "      <td>...</td>\n",
       "      <td>...</td>\n",
       "      <td>...</td>\n",
       "      <td>...</td>\n",
       "      <td>...</td>\n",
       "      <td>...</td>\n",
       "      <td>...</td>\n",
       "      <td>...</td>\n",
       "      <td>...</td>\n",
       "      <td>...</td>\n",
       "      <td>...</td>\n",
       "    </tr>\n",
       "    <tr>\n",
       "      <th>9651</th>\n",
       "      <td>TV Show</td>\n",
       "      <td>Glass Room</td>\n",
       "      <td>NaN</td>\n",
       "      <td>Elizaveta Maiskaya  Vsevolod Boldin  Alexander...</td>\n",
       "      <td>NaN</td>\n",
       "      <td>2019</td>\n",
       "      <td>above16</td>\n",
       "      <td>1 Season</td>\n",
       "      <td>Drama</td>\n",
       "      <td>Geography teacher Elena lives with her husband...</td>\n",
       "      <td>1</td>\n",
       "      <td>Season</td>\n",
       "    </tr>\n",
       "    <tr>\n",
       "      <th>9655</th>\n",
       "      <td>TV Show</td>\n",
       "      <td>DaFUNdamentals Series</td>\n",
       "      <td>NaN</td>\n",
       "      <td>Emile Crawford  Randall Crawford  Jon Ward</td>\n",
       "      <td>NaN</td>\n",
       "      <td>2021</td>\n",
       "      <td>None</td>\n",
       "      <td>1 Season</td>\n",
       "      <td>Animation  Kids</td>\n",
       "      <td>Learn \"daFundamentals\" through song and fun ch...</td>\n",
       "      <td>1</td>\n",
       "      <td>Season</td>\n",
       "    </tr>\n",
       "    <tr>\n",
       "      <th>9661</th>\n",
       "      <td>TV Show</td>\n",
       "      <td>Terrahawks</td>\n",
       "      <td>NaN</td>\n",
       "      <td>DENISE BRYER  WINDSOR DAVIES  JEREMY HITCHEN  ...</td>\n",
       "      <td>NaN</td>\n",
       "      <td>1983</td>\n",
       "      <td>None</td>\n",
       "      <td>3 Seasons</td>\n",
       "      <td>TV Shows</td>\n",
       "      <td>This thrilling, action-packed series saw Gerry...</td>\n",
       "      <td>3</td>\n",
       "      <td>Seasons</td>\n",
       "    </tr>\n",
       "    <tr>\n",
       "      <th>9664</th>\n",
       "      <td>TV Show</td>\n",
       "      <td>Planet Patrol</td>\n",
       "      <td>NaN</td>\n",
       "      <td>DICK VOSBURGH  RONNIE STEVENS  LIBBY MORRIS  M...</td>\n",
       "      <td>NaN</td>\n",
       "      <td>2018</td>\n",
       "      <td>above13</td>\n",
       "      <td>4 Seasons</td>\n",
       "      <td>TV Shows</td>\n",
       "      <td>This is Earth, 2100AD - and these are the adve...</td>\n",
       "      <td>4</td>\n",
       "      <td>Seasons</td>\n",
       "    </tr>\n",
       "    <tr>\n",
       "      <th>9666</th>\n",
       "      <td>TV Show</td>\n",
       "      <td>Maradona  Blessed Dream</td>\n",
       "      <td>NaN</td>\n",
       "      <td>Esteban Recagno  Ezequiel Stremiz  Luciano Vit...</td>\n",
       "      <td>NaN</td>\n",
       "      <td>2021</td>\n",
       "      <td>above18</td>\n",
       "      <td>1 Season</td>\n",
       "      <td>Drama  Sports</td>\n",
       "      <td>The series tells the story of Diego Maradona, ...</td>\n",
       "      <td>1</td>\n",
       "      <td>Season</td>\n",
       "    </tr>\n",
       "  </tbody>\n",
       "</table>\n",
       "<p>1854 rows × 12 columns</p>\n",
       "</div>"
      ],
      "text/plain": [
       "         type                          title director  \\\n",
       "17    TV Show                     Zoo Babies      NaN   \n",
       "18    TV Show  Zoë Coombs Marr  Bossy Bottom      NaN   \n",
       "20    TV Show                     Zoboomafoo      NaN   \n",
       "21    TV Show      Zo Zo Zombie  Mini Series      NaN   \n",
       "23    TV Show                   ZeroZeroZero      NaN   \n",
       "...       ...                            ...      ...   \n",
       "9651  TV Show                     Glass Room      NaN   \n",
       "9655  TV Show          DaFUNdamentals Series      NaN   \n",
       "9661  TV Show                     Terrahawks      NaN   \n",
       "9664  TV Show                  Planet Patrol      NaN   \n",
       "9666  TV Show        Maradona  Blessed Dream      NaN   \n",
       "\n",
       "                                                   cast country  release_year  \\\n",
       "17                           Narrator   Gillian Barlett     NaN          2008   \n",
       "18                                      Zoë Coombs Marr     NaN          2020   \n",
       "20                                                  NaN     NaN          2001   \n",
       "21    Alex Cazares  Ben Diskin  Cristina Vee  Erika ...     NaN          2020   \n",
       "23    ANDREA RISEBOROUGH  HAROLD TORRES  CLAUDIA PIN...   Italy          2020   \n",
       "...                                                 ...     ...           ...   \n",
       "9651  Elizaveta Maiskaya  Vsevolod Boldin  Alexander...     NaN          2019   \n",
       "9655         Emile Crawford  Randall Crawford  Jon Ward     NaN          2021   \n",
       "9661  DENISE BRYER  WINDSOR DAVIES  JEREMY HITCHEN  ...     NaN          1983   \n",
       "9664  DICK VOSBURGH  RONNIE STEVENS  LIBBY MORRIS  M...     NaN          2018   \n",
       "9666  Esteban Recagno  Ezequiel Stremiz  Luciano Vit...     NaN          2021   \n",
       "\n",
       "       rating   duration                      listed_in  \\\n",
       "17       None   1 Season         Kids  Special Interest   \n",
       "18    above18   1 Season  Comedy  Talk Show and Variety   \n",
       "20       None   1 Season                           Kids   \n",
       "21     above7   1 Season          Action  Anime  Comedy   \n",
       "23    above18   1 Season                       TV Shows   \n",
       "...       ...        ...                            ...   \n",
       "9651  above16   1 Season                          Drama   \n",
       "9655     None   1 Season                Animation  Kids   \n",
       "9661     None  3 Seasons                       TV Shows   \n",
       "9664  above13  4 Seasons                       TV Shows   \n",
       "9666  above18   1 Season                  Drama  Sports   \n",
       "\n",
       "                                            description  seasons remaining  \n",
       "17    A heart warming and inspiring series that welc...        1    Season  \n",
       "18    Zoë Coombs Marr has been on hiatus. Sort of. F...        1    Season  \n",
       "20    Chris and Martin Kratt bring their enthusiasm ...        1    Season  \n",
       "21    Zo Zo Zombie is our undead hero who, with his ...        1    Season  \n",
       "23    ZeroZeroZero series follows the journey of a c...        1    Season  \n",
       "...                                                 ...      ...       ...  \n",
       "9651  Geography teacher Elena lives with her husband...        1    Season  \n",
       "9655  Learn \"daFundamentals\" through song and fun ch...        1    Season  \n",
       "9661  This thrilling, action-packed series saw Gerry...        3   Seasons  \n",
       "9664  This is Earth, 2100AD - and these are the adve...        4   Seasons  \n",
       "9666  The series tells the story of Diego Maradona, ...        1    Season  \n",
       "\n",
       "[1854 rows x 12 columns]"
      ]
     },
     "execution_count": 53,
     "metadata": {},
     "output_type": "execute_result"
    }
   ],
   "source": [
    "Amazon_prime_tvshows.astype({'seasons':'int'})"
   ]
  },
  {
   "cell_type": "code",
   "execution_count": 54,
   "id": "ce950b39",
   "metadata": {},
   "outputs": [],
   "source": [
    "Amazon_prime_tvshows=Amazon_prime_tvshows.drop(['remaining','duration'],axis=1)"
   ]
  },
  {
   "cell_type": "code",
   "execution_count": 55,
   "id": "61f4a54d",
   "metadata": {},
   "outputs": [
    {
     "data": {
      "text/plain": [
       "type\n",
       "Movie      7814\n",
       "TV Show    1854\n",
       "Name: count, dtype: int64"
      ]
     },
     "execution_count": 55,
     "metadata": {},
     "output_type": "execute_result"
    }
   ],
   "source": [
    "Amazon_prime['type'].value_counts()"
   ]
  },
  {
   "cell_type": "code",
   "execution_count": 56,
   "id": "4bd608e4",
   "metadata": {},
   "outputs": [],
   "source": [
    "import matplotlib.pyplot as plt"
   ]
  },
  {
   "cell_type": "code",
   "execution_count": 57,
   "id": "cebfd09c",
   "metadata": {},
   "outputs": [
    {
     "data": {
      "text/plain": [
       "Text(0.5, 1.0, 'Type of Content available on Amazon Prime Video')"
      ]
     },
     "execution_count": 57,
     "metadata": {},
     "output_type": "execute_result"
    },
    {
     "data": {
      "image/png": "[encoded data removed]",
      "text/plain": [
       "<Figure size 640x480 with 1 Axes>"
      ]
     },
     "metadata": {},
     "output_type": "display_data"
    }
   ],
   "source": [
    "\n",
    "palette_color=sns.color_palette(\"Pastel1\")\n",
    "keys=[\"Movie\",\"TV Show\"]\n",
    "data=[7814,1854]\n",
    "plt.pie(data,labels=keys,colors=palette_color)\n",
    "plt.title(\"Type of Content available on Amazon Prime Video\")"
   ]
  },
  {
   "cell_type": "code",
   "execution_count": 58,
   "id": "8d7a0b08",
   "metadata": {},
   "outputs": [
    {
     "data": {
      "text/plain": [
       "Text(0.5, 1.0, 'Histogram of Releases of Tv Shows/Movies Available on Amazon Prime')"
      ]
     },
     "execution_count": 58,
     "metadata": {},
     "output_type": "execute_result"
    },
    {
     "data": {
      "image/png": "[encoded data removed]",
      "text/plain": [
       "<Figure size 640x480 with 1 Axes>"
      ]
     },
     "metadata": {},
     "output_type": "display_data"
    }
   ],
   "source": [
    "sns.histplot(x='release_year',hue='type',data=Amazon_prime,palette=\"RdYlGn\")\n",
    "plt.title(\"Histogram of Releases of Tv Shows/Movies Available on Amazon Prime\")"
   ]
  },
  {
   "cell_type": "markdown",
   "id": "305ae5d1",
   "metadata": {},
   "source": [
    "Analysing the Genres on Amazon Prime:\n",
    "To find the count of values taken by the \"listed_in\" column of \"df\", the following snippet is executed"
   ]
  },
  {
   "cell_type": "code",
   "execution_count": 59,
   "id": "efac0877",
   "metadata": {},
   "outputs": [
    {
     "data": {
      "text/plain": [
       "listed_in\n",
       "Drama              986\n",
       "Comedy             536\n",
       "Drama  Suspense    399\n",
       "Comedy  Drama      377\n",
       "Animation  Kids    356\n",
       "Name: count, dtype: int64"
      ]
     },
     "execution_count": 59,
     "metadata": {},
     "output_type": "execute_result"
    }
   ],
   "source": [
    "Amazon_prime['listed_in'].value_counts().head(5)"
   ]
  },
  {
   "cell_type": "markdown",
   "id": "1400e553",
   "metadata": {},
   "source": [
    "To visualize this information, the next set of statements is executed:"
   ]
  },
  {
   "cell_type": "code",
   "execution_count": 60,
   "id": "3a8700e9",
   "metadata": {},
   "outputs": [
    {
     "data": {
      "text/plain": [
       "Text(0.5, 1.0, 'Most Prominent Genres on Amazon Prime ')"
      ]
     },
     "execution_count": 60,
     "metadata": {},
     "output_type": "execute_result"
    },
    {
     "data": {
      "image/png": "[encoded data removed]",
      "text/plain": [
       "<Figure size 640x480 with 1 Axes>"
      ]
     },
     "metadata": {},
     "output_type": "display_data"
    }
   ],
   "source": [
    "\n",
    "palette_color=sns.color_palette(\"Set3\")\n",
    "keys=['Drama','Comedy','Drama+Suspense','Comedy+Drama','Animation+Kids']\n",
    "data=[986,536,399,377,356]\n",
    "plt.pie(data,labels=keys,colors=palette_color)\n",
    "plt.title(\"Most Prominent Genres on Amazon Prime \")"
   ]
  },
  {
   "cell_type": "markdown",
   "id": "9488d3c6",
   "metadata": {},
   "source": [
    "Among the TV shows and movies available on Amazon Prime, drama followed by comedy is the most popular genre.\n",
    "\n",
    "If the genres of movies available on Amazon Prime have to be analyzed separately, then the following steps can be performed:\n",
    "\n",
    "To find the count of values taken by the \"listed_in\" column of \"df_movies\", the following snippet is executed:"
   ]
  },
  {
   "cell_type": "code",
   "execution_count": 61,
   "id": "dc99fba3",
   "metadata": {},
   "outputs": [
    {
     "data": {
      "text/plain": [
       "listed_in\n",
       "Drama                                                         870\n",
       "Comedy                                                        442\n",
       "Drama  Suspense                                               349\n",
       "Comedy  Drama                                                 338\n",
       "Documentary                                                   300\n",
       "Action  Drama                                                 277\n",
       "Horror                                                        253\n",
       "Kids                                                          226\n",
       "Action                                                        216\n",
       "Arts  Entertainment  and Culture  Comedy  Special Interest    215\n",
       "Name: count, dtype: int64"
      ]
     },
     "execution_count": 61,
     "metadata": {},
     "output_type": "execute_result"
    }
   ],
   "source": [
    "Amazon_prime_movies['listed_in'].value_counts().head(10)"
   ]
  },
  {
   "cell_type": "markdown",
   "id": "b2089850",
   "metadata": {},
   "source": [
    "To visualize this information, the next code snippet is executed:\n"
   ]
  },
  {
   "cell_type": "code",
   "execution_count": 62,
   "id": "e6b13be0",
   "metadata": {},
   "outputs": [
    {
     "data": {
      "text/plain": [
       "Text(0.5, 1.0, 'Most Prominent Genres in Movies')"
      ]
     },
     "execution_count": 62,
     "metadata": {},
     "output_type": "execute_result"
    },
    {
     "data": {
      "image/png": "[encoded data removed]",
      "text/plain": [
       "<Figure size 640x480 with 1 Axes>"
      ]
     },
     "metadata": {},
     "output_type": "display_data"
    }
   ],
   "source": [
    "\n",
    "palette_color=sns.color_palette(\"Accent\")\n",
    "keys=['Drama','Comedy','Drama+Suspense','Comedy+Drama','Documentary','Action+Drama','Horror','Kids','Action','Arts+Enertainment+Culture']\n",
    "data=[870,442,349,338,300,277,253,226,216,215]\n",
    "plt.pie(data,labels=keys,colors=palette_color)\n",
    "plt.title(\"Most Prominent Genres in Movies\")"
   ]
  },
  {
   "cell_type": "markdown",
   "id": "36aec706",
   "metadata": {},
   "source": [
    "Even in the movies available on Amazon Prime, drama and comedy tend to dominate the genre.\n",
    "\n",
    "If the genres of TV Shows available on Amazon Prime have to be analyzed separately, then the following steps can be performed:\n",
    "\n",
    "To find the count of values taken by the \"listed_in\" column of \"df_tvshows\", the following snippet is executed:"
   ]
  },
  {
   "cell_type": "code",
   "execution_count": 63,
   "id": "5bdbf698",
   "metadata": {},
   "outputs": [
    {
     "data": {
      "text/plain": [
       "listed_in\n",
       "TV Shows                         263\n",
       "Animation  Kids                  176\n",
       "Drama                            116\n",
       "Documentary  Special Interest    114\n",
       "Kids                             108\n",
       "Comedy                            94\n",
       "Documentary                       50\n",
       "Drama  Suspense                   50\n",
       "Special Interest                  40\n",
       "Comedy  Drama                     39\n",
       "Name: count, dtype: int64"
      ]
     },
     "execution_count": 63,
     "metadata": {},
     "output_type": "execute_result"
    }
   ],
   "source": [
    "Amazon_prime_tvshows['listed_in'].value_counts().head(10)"
   ]
  },
  {
   "cell_type": "code",
   "execution_count": 64,
   "id": "70f7f882",
   "metadata": {},
   "outputs": [
    {
     "data": {
      "text/plain": [
       "Text(0.5, 1.0, 'Most Prominent Genres in TV Shows')"
      ]
     },
     "execution_count": 64,
     "metadata": {},
     "output_type": "execute_result"
    },
    {
     "data": {
      "image/png": "[encoded data removed]",
      "text/plain": [
       "<Figure size 640x480 with 1 Axes>"
      ]
     },
     "metadata": {},
     "output_type": "display_data"
    }
   ],
   "source": [
    "\n",
    "palette_color=sns.color_palette(\"PuOr\")\n",
    "keys=[\"TV shows\",\"Animation+Kids\",\"Drama\",\"Documentary+Special Interest\",\"Kids\",\"Comedy\",\"Documentary\",\"Drama+Suspense\",\"Special Interest\",\"Comedy+Drama\"]\n",
    "data=[263,176,116,114,108,94,50,50,40,39]\n",
    "plt.pie(data,labels=keys,colors=palette_color)\n",
    "plt.title(\"Most Prominent Genres in TV Shows\")"
   ]
  },
  {
   "cell_type": "markdown",
   "id": "7add67cc",
   "metadata": {},
   "source": [
    "Analysing the Relationship between the Duration and Release Year of Movie\n",
    "\n"
   ]
  },
  {
   "cell_type": "code",
   "execution_count": 65,
   "id": "a213391c",
   "metadata": {},
   "outputs": [
    {
     "data": {
      "text/plain": [
       "<Axes: xlabel='release_year', ylabel='time'>"
      ]
     },
     "execution_count": 65,
     "metadata": {},
     "output_type": "execute_result"
    },
    {
     "data": {
      "image/png": "[encoded data removed]",
      "text/plain": [
       "<Figure size 640x480 with 1 Axes>"
      ]
     },
     "metadata": {},
     "output_type": "display_data"
    }
   ],
   "source": [
    "sns.lineplot(y='time',x='release_year',data=Amazon_prime_movies)"
   ]
  },
  {
   "cell_type": "markdown",
   "id": "c65950ee",
   "metadata": {},
   "source": [
    "The duration of movies listed on Amazon Prime has stabilized in recent years ranging from roughly 90 to 110 minutes.\n",
    "\n",
    "Analysing the Relationship between Seasons and Release Year of TV Shows:\n"
   ]
  },
  {
   "cell_type": "code",
   "execution_count": 66,
   "id": "fe3cc5e4",
   "metadata": {},
   "outputs": [
    {
     "data": {
      "text/plain": [
       "<Axes: xlabel='release_year', ylabel='seasons'>"
      ]
     },
     "execution_count": 66,
     "metadata": {},
     "output_type": "execute_result"
    },
    {
     "data": {
      "image/png": "[encoded data removed]",
      "text/plain": [
       "<Figure size 640x480 with 1 Axes>"
      ]
     },
     "metadata": {},
     "output_type": "display_data"
    }
   ],
   "source": [
    "sns.lineplot(y='seasons',x='release_year',data=Amazon_prime_tvshows)"
   ]
  }
 ],
 "metadata": {
  "kernelspec": {
   "display_name": "Python 3 (ipykernel)",
   "language": "python",
   "name": "python3"
  },
  "language_info": {
   "codemirror_mode": {
    "name": "ipython",
    "version": 3
   },
   "file_extension": ".py",
   "mimetype": "text/x-python",
   "name": "python",
   "nbconvert_exporter": "python",
   "pygments_lexer": "ipython3",
   "version": "3.11.5"
  }
 },
 "nbformat": 4,
 "nbformat_minor": 5
}
